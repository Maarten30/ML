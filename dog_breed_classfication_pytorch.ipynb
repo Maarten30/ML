{
  "nbformat": 4,
  "nbformat_minor": 0,
  "metadata": {
    "accelerator": "GPU",
    "colab": {
      "name": "dog-vision-pytorch-2.ipynb",
      "provenance": [],
      "collapsed_sections": [],
      "mount_file_id": "1smkU1zLznA5djzSTPwLCDkQ2eOBz6nKx",
      "authorship_tag": "ABX9TyOkwJ+lNOrgip0RJ0PfWgGM",
      "include_colab_link": true
    },
    "kernelspec": {
      "display_name": "Python 3",
      "name": "python3"
    },
    "widgets": {
      "application/vnd.jupyter.widget-state+json": {
        "90fb9c5b222f4b37aae15805d16cf468": {
          "model_module": "@jupyter-widgets/controls",
          "model_name": "HBoxModel",
          "state": {
            "_dom_classes": [],
            "_model_module": "@jupyter-widgets/controls",
            "_model_module_version": "1.5.0",
            "_model_name": "HBoxModel",
            "_view_count": null,
            "_view_module": "@jupyter-widgets/controls",
            "_view_module_version": "1.5.0",
            "_view_name": "HBoxView",
            "box_style": "",
            "children": [
              "IPY_MODEL_2a955271c09c4ad8b563012416e565a5",
              "IPY_MODEL_a263b1f472994f749840b7d89a48c7f8"
            ],
            "layout": "IPY_MODEL_fa514674a96c49aca0c08722acf55ed8"
          }
        },
        "2a955271c09c4ad8b563012416e565a5": {
          "model_module": "@jupyter-widgets/controls",
          "model_name": "FloatProgressModel",
          "state": {
            "_dom_classes": [],
            "_model_module": "@jupyter-widgets/controls",
            "_model_module_version": "1.5.0",
            "_model_name": "FloatProgressModel",
            "_view_count": null,
            "_view_module": "@jupyter-widgets/controls",
            "_view_module_version": "1.5.0",
            "_view_name": "ProgressView",
            "bar_style": "success",
            "description": "100%",
            "description_tooltip": null,
            "layout": "IPY_MODEL_8f1ee04258c148d5b0ecaf5c2c23e1de",
            "max": 46827520,
            "min": 0,
            "orientation": "horizontal",
            "style": "IPY_MODEL_7820b8b6d7cb4482bf78a95aa5034eb2",
            "value": 46827520
          }
        },
        "a263b1f472994f749840b7d89a48c7f8": {
          "model_module": "@jupyter-widgets/controls",
          "model_name": "HTMLModel",
          "state": {
            "_dom_classes": [],
            "_model_module": "@jupyter-widgets/controls",
            "_model_module_version": "1.5.0",
            "_model_name": "HTMLModel",
            "_view_count": null,
            "_view_module": "@jupyter-widgets/controls",
            "_view_module_version": "1.5.0",
            "_view_name": "HTMLView",
            "description": "",
            "description_tooltip": null,
            "layout": "IPY_MODEL_4a54244ec80b4e47802624964d044d59",
            "placeholder": "​",
            "style": "IPY_MODEL_cc2c2acc36e142b8ab38f731dd5c4b43",
            "value": " 44.7M/44.7M [02:09&lt;00:00, 362kB/s]"
          }
        },
        "fa514674a96c49aca0c08722acf55ed8": {
          "model_module": "@jupyter-widgets/base",
          "model_name": "LayoutModel",
          "state": {
            "_model_module": "@jupyter-widgets/base",
            "_model_module_version": "1.2.0",
            "_model_name": "LayoutModel",
            "_view_count": null,
            "_view_module": "@jupyter-widgets/base",
            "_view_module_version": "1.2.0",
            "_view_name": "LayoutView",
            "align_content": null,
            "align_items": null,
            "align_self": null,
            "border": null,
            "bottom": null,
            "display": null,
            "flex": null,
            "flex_flow": null,
            "grid_area": null,
            "grid_auto_columns": null,
            "grid_auto_flow": null,
            "grid_auto_rows": null,
            "grid_column": null,
            "grid_gap": null,
            "grid_row": null,
            "grid_template_areas": null,
            "grid_template_columns": null,
            "grid_template_rows": null,
            "height": null,
            "justify_content": null,
            "justify_items": null,
            "left": null,
            "margin": null,
            "max_height": null,
            "max_width": null,
            "min_height": null,
            "min_width": null,
            "object_fit": null,
            "object_position": null,
            "order": null,
            "overflow": null,
            "overflow_x": null,
            "overflow_y": null,
            "padding": null,
            "right": null,
            "top": null,
            "visibility": null,
            "width": null
          }
        },
        "8f1ee04258c148d5b0ecaf5c2c23e1de": {
          "model_module": "@jupyter-widgets/base",
          "model_name": "LayoutModel",
          "state": {
            "_model_module": "@jupyter-widgets/base",
            "_model_module_version": "1.2.0",
            "_model_name": "LayoutModel",
            "_view_count": null,
            "_view_module": "@jupyter-widgets/base",
            "_view_module_version": "1.2.0",
            "_view_name": "LayoutView",
            "align_content": null,
            "align_items": null,
            "align_self": null,
            "border": null,
            "bottom": null,
            "display": null,
            "flex": null,
            "flex_flow": null,
            "grid_area": null,
            "grid_auto_columns": null,
            "grid_auto_flow": null,
            "grid_auto_rows": null,
            "grid_column": null,
            "grid_gap": null,
            "grid_row": null,
            "grid_template_areas": null,
            "grid_template_columns": null,
            "grid_template_rows": null,
            "height": null,
            "justify_content": null,
            "justify_items": null,
            "left": null,
            "margin": null,
            "max_height": null,
            "max_width": null,
            "min_height": null,
            "min_width": null,
            "object_fit": null,
            "object_position": null,
            "order": null,
            "overflow": null,
            "overflow_x": null,
            "overflow_y": null,
            "padding": null,
            "right": null,
            "top": null,
            "visibility": null,
            "width": null
          }
        },
        "7820b8b6d7cb4482bf78a95aa5034eb2": {
          "model_module": "@jupyter-widgets/controls",
          "model_name": "ProgressStyleModel",
          "state": {
            "_model_module": "@jupyter-widgets/controls",
            "_model_module_version": "1.5.0",
            "_model_name": "ProgressStyleModel",
            "_view_count": null,
            "_view_module": "@jupyter-widgets/base",
            "_view_module_version": "1.2.0",
            "_view_name": "StyleView",
            "bar_color": null,
            "description_width": "initial"
          }
        },
        "4a54244ec80b4e47802624964d044d59": {
          "model_module": "@jupyter-widgets/base",
          "model_name": "LayoutModel",
          "state": {
            "_model_module": "@jupyter-widgets/base",
            "_model_module_version": "1.2.0",
            "_model_name": "LayoutModel",
            "_view_count": null,
            "_view_module": "@jupyter-widgets/base",
            "_view_module_version": "1.2.0",
            "_view_name": "LayoutView",
            "align_content": null,
            "align_items": null,
            "align_self": null,
            "border": null,
            "bottom": null,
            "display": null,
            "flex": null,
            "flex_flow": null,
            "grid_area": null,
            "grid_auto_columns": null,
            "grid_auto_flow": null,
            "grid_auto_rows": null,
            "grid_column": null,
            "grid_gap": null,
            "grid_row": null,
            "grid_template_areas": null,
            "grid_template_columns": null,
            "grid_template_rows": null,
            "height": null,
            "justify_content": null,
            "justify_items": null,
            "left": null,
            "margin": null,
            "max_height": null,
            "max_width": null,
            "min_height": null,
            "min_width": null,
            "object_fit": null,
            "object_position": null,
            "order": null,
            "overflow": null,
            "overflow_x": null,
            "overflow_y": null,
            "padding": null,
            "right": null,
            "top": null,
            "visibility": null,
            "width": null
          }
        },
        "cc2c2acc36e142b8ab38f731dd5c4b43": {
          "model_module": "@jupyter-widgets/controls",
          "model_name": "DescriptionStyleModel",
          "state": {
            "_model_module": "@jupyter-widgets/controls",
            "_model_module_version": "1.5.0",
            "_model_name": "DescriptionStyleModel",
            "_view_count": null,
            "_view_module": "@jupyter-widgets/base",
            "_view_module_version": "1.2.0",
            "_view_name": "StyleView",
            "description_width": ""
          }
        },
        "f1af48501b6f48849e303b036db0fb87": {
          "model_module": "@jupyter-widgets/controls",
          "model_name": "HBoxModel",
          "state": {
            "_view_name": "HBoxView",
            "_dom_classes": [],
            "_model_name": "HBoxModel",
            "_view_module": "@jupyter-widgets/controls",
            "_model_module_version": "1.5.0",
            "_view_count": null,
            "_view_module_version": "1.5.0",
            "box_style": "",
            "layout": "IPY_MODEL_46f11a49808b438a923f6e498f4bf3a2",
            "_model_module": "@jupyter-widgets/controls",
            "children": [
              "IPY_MODEL_37c4ee6e17b64d3d9da5ade8da12b4c7",
              "IPY_MODEL_662b64adb56147a8b533026c195d53fe"
            ]
          }
        },
        "46f11a49808b438a923f6e498f4bf3a2": {
          "model_module": "@jupyter-widgets/base",
          "model_name": "LayoutModel",
          "state": {
            "_view_name": "LayoutView",
            "grid_template_rows": null,
            "right": null,
            "justify_content": null,
            "_view_module": "@jupyter-widgets/base",
            "overflow": null,
            "_model_module_version": "1.2.0",
            "_view_count": null,
            "flex_flow": null,
            "width": null,
            "min_width": null,
            "border": null,
            "align_items": null,
            "bottom": null,
            "_model_module": "@jupyter-widgets/base",
            "top": null,
            "grid_column": null,
            "overflow_y": null,
            "overflow_x": null,
            "grid_auto_flow": null,
            "grid_area": null,
            "grid_template_columns": null,
            "flex": null,
            "_model_name": "LayoutModel",
            "justify_items": null,
            "grid_row": null,
            "max_height": null,
            "align_content": null,
            "visibility": null,
            "align_self": null,
            "height": null,
            "min_height": null,
            "padding": null,
            "grid_auto_rows": null,
            "grid_gap": null,
            "max_width": null,
            "order": null,
            "_view_module_version": "1.2.0",
            "grid_template_areas": null,
            "object_position": null,
            "object_fit": null,
            "grid_auto_columns": null,
            "margin": null,
            "display": null,
            "left": null
          }
        },
        "37c4ee6e17b64d3d9da5ade8da12b4c7": {
          "model_module": "@jupyter-widgets/controls",
          "model_name": "FloatProgressModel",
          "state": {
            "_view_name": "ProgressView",
            "style": "IPY_MODEL_0338e3a4b272407b95fabf5e6aa18285",
            "_dom_classes": [],
            "description": "100%",
            "_model_name": "FloatProgressModel",
            "bar_style": "success",
            "max": 46827520,
            "_view_module": "@jupyter-widgets/controls",
            "_model_module_version": "1.5.0",
            "value": 46827520,
            "_view_count": null,
            "_view_module_version": "1.5.0",
            "orientation": "horizontal",
            "min": 0,
            "description_tooltip": null,
            "_model_module": "@jupyter-widgets/controls",
            "layout": "IPY_MODEL_dd54eac900c14288998a152ace1b9c02"
          }
        },
        "662b64adb56147a8b533026c195d53fe": {
          "model_module": "@jupyter-widgets/controls",
          "model_name": "HTMLModel",
          "state": {
            "_view_name": "HTMLView",
            "style": "IPY_MODEL_cdc3d00b8a71480ab2528971de9e8429",
            "_dom_classes": [],
            "description": "",
            "_model_name": "HTMLModel",
            "placeholder": "​",
            "_view_module": "@jupyter-widgets/controls",
            "_model_module_version": "1.5.0",
            "value": " 44.7M/44.7M [00:00&lt;00:00, 117MB/s]",
            "_view_count": null,
            "_view_module_version": "1.5.0",
            "description_tooltip": null,
            "_model_module": "@jupyter-widgets/controls",
            "layout": "IPY_MODEL_1d5f86a32cb449c2a62c96f75a14ed0e"
          }
        },
        "0338e3a4b272407b95fabf5e6aa18285": {
          "model_module": "@jupyter-widgets/controls",
          "model_name": "ProgressStyleModel",
          "state": {
            "_view_name": "StyleView",
            "_model_name": "ProgressStyleModel",
            "description_width": "initial",
            "_view_module": "@jupyter-widgets/base",
            "_model_module_version": "1.5.0",
            "_view_count": null,
            "_view_module_version": "1.2.0",
            "bar_color": null,
            "_model_module": "@jupyter-widgets/controls"
          }
        },
        "dd54eac900c14288998a152ace1b9c02": {
          "model_module": "@jupyter-widgets/base",
          "model_name": "LayoutModel",
          "state": {
            "_view_name": "LayoutView",
            "grid_template_rows": null,
            "right": null,
            "justify_content": null,
            "_view_module": "@jupyter-widgets/base",
            "overflow": null,
            "_model_module_version": "1.2.0",
            "_view_count": null,
            "flex_flow": null,
            "width": null,
            "min_width": null,
            "border": null,
            "align_items": null,
            "bottom": null,
            "_model_module": "@jupyter-widgets/base",
            "top": null,
            "grid_column": null,
            "overflow_y": null,
            "overflow_x": null,
            "grid_auto_flow": null,
            "grid_area": null,
            "grid_template_columns": null,
            "flex": null,
            "_model_name": "LayoutModel",
            "justify_items": null,
            "grid_row": null,
            "max_height": null,
            "align_content": null,
            "visibility": null,
            "align_self": null,
            "height": null,
            "min_height": null,
            "padding": null,
            "grid_auto_rows": null,
            "grid_gap": null,
            "max_width": null,
            "order": null,
            "_view_module_version": "1.2.0",
            "grid_template_areas": null,
            "object_position": null,
            "object_fit": null,
            "grid_auto_columns": null,
            "margin": null,
            "display": null,
            "left": null
          }
        },
        "cdc3d00b8a71480ab2528971de9e8429": {
          "model_module": "@jupyter-widgets/controls",
          "model_name": "DescriptionStyleModel",
          "state": {
            "_view_name": "StyleView",
            "_model_name": "DescriptionStyleModel",
            "description_width": "",
            "_view_module": "@jupyter-widgets/base",
            "_model_module_version": "1.5.0",
            "_view_count": null,
            "_view_module_version": "1.2.0",
            "_model_module": "@jupyter-widgets/controls"
          }
        },
        "1d5f86a32cb449c2a62c96f75a14ed0e": {
          "model_module": "@jupyter-widgets/base",
          "model_name": "LayoutModel",
          "state": {
            "_view_name": "LayoutView",
            "grid_template_rows": null,
            "right": null,
            "justify_content": null,
            "_view_module": "@jupyter-widgets/base",
            "overflow": null,
            "_model_module_version": "1.2.0",
            "_view_count": null,
            "flex_flow": null,
            "width": null,
            "min_width": null,
            "border": null,
            "align_items": null,
            "bottom": null,
            "_model_module": "@jupyter-widgets/base",
            "top": null,
            "grid_column": null,
            "overflow_y": null,
            "overflow_x": null,
            "grid_auto_flow": null,
            "grid_area": null,
            "grid_template_columns": null,
            "flex": null,
            "_model_name": "LayoutModel",
            "justify_items": null,
            "grid_row": null,
            "max_height": null,
            "align_content": null,
            "visibility": null,
            "align_self": null,
            "height": null,
            "min_height": null,
            "padding": null,
            "grid_auto_rows": null,
            "grid_gap": null,
            "max_width": null,
            "order": null,
            "_view_module_version": "1.2.0",
            "grid_template_areas": null,
            "object_position": null,
            "object_fit": null,
            "grid_auto_columns": null,
            "margin": null,
            "display": null,
            "left": null
          }
        }
      }
    }
  },
  "cells": [
    {
      "cell_type": "markdown",
      "metadata": {
        "id": "view-in-github",
        "colab_type": "text"
      },
      "source": [
        "<a href=\"https://colab.research.google.com/github/Maarten30/ML/blob/main/dog_breed_classfication_pytorch.ipynb\" target=\"_parent\"><img src=\"https://colab.research.google.com/assets/colab-badge.svg\" alt=\"Open In Colab\"/></a>"
      ]
    },
    {
      "cell_type": "markdown",
      "metadata": {
        "id": "PiAlLyFAWqMH"
      },
      "source": [
        "# End-to-end Multi-class Dog Breed Classification 🐶 🐾\n",
        "\n",
        "This notebook builds and end-to-end multi-class image classifier using Pytorch.\n",
        "\n",
        "\n",
        "## 1. Problem\n",
        "\n",
        "Identifying the breed of a dog given an image of a dog.\n",
        "\n",
        "\n",
        "## 2. Data\n",
        "\n",
        "The data used is from Kaggle's dog bread identification competition.\n",
        "\n",
        "https://www.kaggle.com/c/dog-breed-identification/data\n",
        "\n",
        "\n",
        "## 3. Evaluation\n",
        "\n",
        "The evaluation is a file with prediction probabilities for each dog breed of each test image.\n",
        "\n",
        "https://www.kaggle.com/c/dog-breed-identification/overview/evaluation\n",
        "\n",
        "\n",
        "## 4. Features\n",
        "\n",
        "Some information about the data:\n",
        "* We're dealing with images (unstructured data) so it's probably best we use deep learning/transfer learning.\n",
        "* There are 120 breeds of dogs (this means there are 120 different classes).\n",
        "* There are around 10,000+ images in the training set (these images have labels)\n",
        "* There are around 10,000+ images in the test set (these images have no labels)"
      ]
    },
    {
      "cell_type": "markdown",
      "metadata": {
        "id": "xLkqmbY1W5IA"
      },
      "source": [
        "## Imports"
      ]
    },
    {
      "cell_type": "code",
      "metadata": {
        "id": "TF4PVJRdXDCv"
      },
      "source": [
        "# Imports\n",
        "import torch\n",
        "import torch.nn as nn\n",
        "from torch.utils.data import Dataset, DataLoader\n",
        "from torch.optim import lr_scheduler\n",
        "\n",
        "from torchvision import datasets, models, transforms\n",
        "\n",
        "import numpy as np\n",
        "import os\n",
        "import matplotlib.pyplot as plt\n",
        "import pandas as pd\n",
        "import time\n",
        "import copy\n",
        "from IPython.display import Image as Image1\n",
        "from skimage import io, transform\n",
        "from PIL import Image\n",
        "\n",
        "from sklearn.preprocessing import MultiLabelBinarizer"
      ],
      "execution_count": null,
      "outputs": []
    },
    {
      "cell_type": "markdown",
      "metadata": {
        "id": "WiPcOYzeXMNg"
      },
      "source": [
        "## Set Device"
      ]
    },
    {
      "cell_type": "code",
      "metadata": {
        "colab": {
          "base_uri": "https://localhost:8080/"
        },
        "id": "EyUnxOkCXTXp",
        "outputId": "b4f597ae-e9a5-4acd-b8f7-980c18cf3252"
      },
      "source": [
        "# Set device\n",
        "device = torch.device('cuda' if torch.cuda.is_available() else 'cpu')\n",
        "\n",
        "print(device)"
      ],
      "execution_count": null,
      "outputs": [
        {
          "output_type": "stream",
          "text": [
            "cuda\n"
          ],
          "name": "stdout"
        }
      ]
    },
    {
      "cell_type": "markdown",
      "metadata": {
        "id": "Gi-qHVjuXVDx"
      },
      "source": [
        "## Getting our data ready (turning into Tensors)"
      ]
    },
    {
      "cell_type": "markdown",
      "metadata": {
        "id": "mLJgZV21XRvI"
      },
      "source": [
        "### Some relevant global variables"
      ]
    },
    {
      "cell_type": "code",
      "metadata": {
        "id": "kQ34euWlXXYY"
      },
      "source": [
        "# Path to training images folder\n",
        "IMG_PATH = 'drive/MyDrive/Google Colab Data/Dog Vision/train/'\n",
        "\n",
        "# Image file extension\n",
        "IMG_EXT = '.jpg'\n",
        "\n",
        "# Path to data csv\n",
        "TRAIN_DATA = 'drive/MyDrive/Google Colab Data/Dog Vision/labels.csv'\n",
        "\n",
        "# Path to test images folder\n",
        "TEST_IMG_PATH = 'drive/MyDrive/Google Colab Data/Dog Vision/test/'\n",
        "\n",
        "# Path to the folder where we will save or training outcomes\n",
        "SAVING_PATH = 'drive/MyDrive/Google Colab Data/Dog Vision Pytorch/models/'"
      ],
      "execution_count": null,
      "outputs": []
    },
    {
      "cell_type": "markdown",
      "metadata": {
        "id": "ixcspwlAj80U"
      },
      "source": [
        "### Organizing labels and filenames "
      ]
    },
    {
      "cell_type": "code",
      "metadata": {
        "id": "o_eFGNlsXj-0"
      },
      "source": [
        "labels_csv = pd.read_csv(TRAIN_DATA)"
      ],
      "execution_count": null,
      "outputs": []
    },
    {
      "cell_type": "code",
      "metadata": {
        "colab": {
          "base_uri": "https://localhost:8080/",
          "height": 204
        },
        "id": "Uj2_lUyfXwyf",
        "outputId": "d8bbaa8f-706d-40a0-febf-9b23871f614b"
      },
      "source": [
        "labels_csv.head()"
      ],
      "execution_count": null,
      "outputs": [
        {
          "output_type": "execute_result",
          "data": {
            "text/html": [
              "<div>\n",
              "<style scoped>\n",
              "    .dataframe tbody tr th:only-of-type {\n",
              "        vertical-align: middle;\n",
              "    }\n",
              "\n",
              "    .dataframe tbody tr th {\n",
              "        vertical-align: top;\n",
              "    }\n",
              "\n",
              "    .dataframe thead th {\n",
              "        text-align: right;\n",
              "    }\n",
              "</style>\n",
              "<table border=\"1\" class=\"dataframe\">\n",
              "  <thead>\n",
              "    <tr style=\"text-align: right;\">\n",
              "      <th></th>\n",
              "      <th>id</th>\n",
              "      <th>breed</th>\n",
              "    </tr>\n",
              "  </thead>\n",
              "  <tbody>\n",
              "    <tr>\n",
              "      <th>0</th>\n",
              "      <td>000bec180eb18c7604dcecc8fe0dba07</td>\n",
              "      <td>boston_bull</td>\n",
              "    </tr>\n",
              "    <tr>\n",
              "      <th>1</th>\n",
              "      <td>001513dfcb2ffafc82cccf4d8bbaba97</td>\n",
              "      <td>dingo</td>\n",
              "    </tr>\n",
              "    <tr>\n",
              "      <th>2</th>\n",
              "      <td>001cdf01b096e06d78e9e5112d419397</td>\n",
              "      <td>pekinese</td>\n",
              "    </tr>\n",
              "    <tr>\n",
              "      <th>3</th>\n",
              "      <td>00214f311d5d2247d5dfe4fe24b2303d</td>\n",
              "      <td>bluetick</td>\n",
              "    </tr>\n",
              "    <tr>\n",
              "      <th>4</th>\n",
              "      <td>0021f9ceb3235effd7fcde7f7538ed62</td>\n",
              "      <td>golden_retriever</td>\n",
              "    </tr>\n",
              "  </tbody>\n",
              "</table>\n",
              "</div>"
            ],
            "text/plain": [
              "                                 id             breed\n",
              "0  000bec180eb18c7604dcecc8fe0dba07       boston_bull\n",
              "1  001513dfcb2ffafc82cccf4d8bbaba97             dingo\n",
              "2  001cdf01b096e06d78e9e5112d419397          pekinese\n",
              "3  00214f311d5d2247d5dfe4fe24b2303d          bluetick\n",
              "4  0021f9ceb3235effd7fcde7f7538ed62  golden_retriever"
            ]
          },
          "metadata": {
            "tags": []
          },
          "execution_count": 12
        }
      ]
    },
    {
      "cell_type": "code",
      "metadata": {
        "colab": {
          "base_uri": "https://localhost:8080/",
          "height": 173
        },
        "id": "qSLMJNpFwToI",
        "outputId": "9f687fe5-b383-4b30-9342-cc948aa52d4e"
      },
      "source": [
        "labels_csv.describe()"
      ],
      "execution_count": null,
      "outputs": [
        {
          "output_type": "execute_result",
          "data": {
            "text/html": [
              "<div>\n",
              "<style scoped>\n",
              "    .dataframe tbody tr th:only-of-type {\n",
              "        vertical-align: middle;\n",
              "    }\n",
              "\n",
              "    .dataframe tbody tr th {\n",
              "        vertical-align: top;\n",
              "    }\n",
              "\n",
              "    .dataframe thead th {\n",
              "        text-align: right;\n",
              "    }\n",
              "</style>\n",
              "<table border=\"1\" class=\"dataframe\">\n",
              "  <thead>\n",
              "    <tr style=\"text-align: right;\">\n",
              "      <th></th>\n",
              "      <th>id</th>\n",
              "      <th>breed</th>\n",
              "    </tr>\n",
              "  </thead>\n",
              "  <tbody>\n",
              "    <tr>\n",
              "      <th>count</th>\n",
              "      <td>10222</td>\n",
              "      <td>10222</td>\n",
              "    </tr>\n",
              "    <tr>\n",
              "      <th>unique</th>\n",
              "      <td>10222</td>\n",
              "      <td>120</td>\n",
              "    </tr>\n",
              "    <tr>\n",
              "      <th>top</th>\n",
              "      <td>b7859bc0940bcff3bcd02155742ec4be</td>\n",
              "      <td>scottish_deerhound</td>\n",
              "    </tr>\n",
              "    <tr>\n",
              "      <th>freq</th>\n",
              "      <td>1</td>\n",
              "      <td>126</td>\n",
              "    </tr>\n",
              "  </tbody>\n",
              "</table>\n",
              "</div>"
            ],
            "text/plain": [
              "                                      id               breed\n",
              "count                              10222               10222\n",
              "unique                             10222                 120\n",
              "top     b7859bc0940bcff3bcd02155742ec4be  scottish_deerhound\n",
              "freq                                   1                 126"
            ]
          },
          "metadata": {
            "tags": []
          },
          "execution_count": 13
        }
      ]
    },
    {
      "cell_type": "code",
      "metadata": {
        "colab": {
          "base_uri": "https://localhost:8080/"
        },
        "id": "K510ueHFX9Hm",
        "outputId": "7e77c911-bcb1-48d2-9551-099d42aa17ce"
      },
      "source": [
        "# Create pathnames from image ID's\n",
        "# (Create a list of filenames)\n",
        "filenames = [IMG_PATH + fname + \".jpg\" for fname in labels_csv[\"id\"]]\n",
        "\n",
        "# Check first 10\n",
        "filenames[:10]"
      ],
      "execution_count": null,
      "outputs": [
        {
          "output_type": "execute_result",
          "data": {
            "text/plain": [
              "['drive/MyDrive/Google Colab Data/Dog Vision/train/000bec180eb18c7604dcecc8fe0dba07.jpg',\n",
              " 'drive/MyDrive/Google Colab Data/Dog Vision/train/001513dfcb2ffafc82cccf4d8bbaba97.jpg',\n",
              " 'drive/MyDrive/Google Colab Data/Dog Vision/train/001cdf01b096e06d78e9e5112d419397.jpg',\n",
              " 'drive/MyDrive/Google Colab Data/Dog Vision/train/00214f311d5d2247d5dfe4fe24b2303d.jpg',\n",
              " 'drive/MyDrive/Google Colab Data/Dog Vision/train/0021f9ceb3235effd7fcde7f7538ed62.jpg',\n",
              " 'drive/MyDrive/Google Colab Data/Dog Vision/train/002211c81b498ef88e1b40b9abf84e1d.jpg',\n",
              " 'drive/MyDrive/Google Colab Data/Dog Vision/train/00290d3e1fdd27226ba27a8ce248ce85.jpg',\n",
              " 'drive/MyDrive/Google Colab Data/Dog Vision/train/002a283a315af96eaea0e28e7163b21b.jpg',\n",
              " 'drive/MyDrive/Google Colab Data/Dog Vision/train/003df8b8a8b05244b1d920bb6cf451f9.jpg',\n",
              " 'drive/MyDrive/Google Colab Data/Dog Vision/train/0042188c895a2f14ef64a918ed9c7b64.jpg']"
            ]
          },
          "metadata": {
            "tags": []
          },
          "execution_count": 14
        }
      ]
    },
    {
      "cell_type": "code",
      "metadata": {
        "colab": {
          "base_uri": "https://localhost:8080/"
        },
        "id": "nGleTac5Yjwm",
        "outputId": "7c73347e-1a01-43b4-b514-dae78dd07aea"
      },
      "source": [
        "# Check wether number of filenames matches number of actual image files\n",
        "if len(os.listdir(\"drive/MyDrive/Google Colab Data/Dog Vision/train/\")) == len(filenames):\n",
        "  print(\"Filenames match actual amount of files!!! Proceed.\")\n",
        "else:\n",
        "  print(\"Filenames do not match actual amount of files, check the target directory.\")"
      ],
      "execution_count": null,
      "outputs": [
        {
          "output_type": "stream",
          "text": [
            "Filenames match actual amount of files!!! Proceed.\n"
          ],
          "name": "stdout"
        }
      ]
    },
    {
      "cell_type": "code",
      "metadata": {
        "colab": {
          "base_uri": "https://localhost:8080/",
          "height": 453
        },
        "id": "2rZO_CqsYy3C",
        "outputId": "a5398ed0-4aa9-4e4c-e238-d02ea62d0c2e"
      },
      "source": [
        "# One more check\n",
        "Image1(filenames[900])"
      ],
      "execution_count": null,
      "outputs": [
        {
          "output_type": "execute_result",
          "data": {
            "image/jpeg": "[encoded data removed]",
            "text/plain": [
              "<IPython.core.display.Image object>"
            ]
          },
          "metadata": {
            "tags": []
          },
          "execution_count": 9
        }
      ]
    },
    {
      "cell_type": "code",
      "metadata": {
        "colab": {
          "base_uri": "https://localhost:8080/",
          "height": 35
        },
        "id": "ExyZuVurZABc",
        "outputId": "764e57a1-2c88-4a48-83dc-591f1cd2a37b"
      },
      "source": [
        "# Label for this specific dog\n",
        "labels_csv[\"breed\"][900]"
      ],
      "execution_count": null,
      "outputs": [
        {
          "output_type": "execute_result",
          "data": {
            "application/vnd.google.colaboratory.intrinsic+json": {
              "type": "string"
            },
            "text/plain": [
              "'lhasa'"
            ]
          },
          "metadata": {
            "tags": []
          },
          "execution_count": 10
        }
      ]
    },
    {
      "cell_type": "code",
      "metadata": {
        "colab": {
          "base_uri": "https://localhost:8080/"
        },
        "id": "yxGKMtLkZNjv",
        "outputId": "c7ea0a26-3f9f-4391-9727-64ee72e65d63"
      },
      "source": [
        "# numpy array with the \"breed\" column of the csv file\n",
        "labels = labels_csv[\"breed\"]\n",
        "labels = np.array(labels)\n",
        "labels"
      ],
      "execution_count": null,
      "outputs": [
        {
          "output_type": "execute_result",
          "data": {
            "text/plain": [
              "array(['boston_bull', 'dingo', 'pekinese', ..., 'airedale',\n",
              "       'miniature_pinscher', 'chesapeake_bay_retriever'], dtype=object)"
            ]
          },
          "metadata": {
            "tags": []
          },
          "execution_count": 25
        }
      ]
    },
    {
      "cell_type": "code",
      "metadata": {
        "colab": {
          "base_uri": "https://localhost:8080/"
        },
        "id": "JNZCWa2YZzNd",
        "outputId": "45db819c-0746-421c-a4aa-7e080a684de4"
      },
      "source": [
        "# See if numbers of labels matches the number of filenames\n",
        "if len(labels) == len(filenames):\n",
        "  print(\"Number of labels matches number of filenames\")\n",
        "else:\n",
        "  print(\"Number of labels does not match number of filenames, check data directories!\")"
      ],
      "execution_count": null,
      "outputs": [
        {
          "output_type": "stream",
          "text": [
            "Number of labels matches number of filenames\n"
          ],
          "name": "stdout"
        }
      ]
    },
    {
      "cell_type": "code",
      "metadata": {
        "colab": {
          "base_uri": "https://localhost:8080/"
        },
        "id": "TqsofiNmaF5h",
        "outputId": "e0af9a74-513a-4cc8-9394-82e92ee78d7b"
      },
      "source": [
        "# Create a numpy array with unique dog breeds\n",
        "unique_breeds = np.unique(labels)\n",
        "len(unique_breeds)"
      ],
      "execution_count": null,
      "outputs": [
        {
          "output_type": "execute_result",
          "data": {
            "text/plain": [
              "120"
            ]
          },
          "metadata": {
            "tags": []
          },
          "execution_count": 26
        }
      ]
    },
    {
      "cell_type": "markdown",
      "metadata": {
        "id": "0O2eEp8xaTpt"
      },
      "source": [
        "### Define image transformations"
      ]
    },
    {
      "cell_type": "code",
      "metadata": {
        "id": "6TBWp8Bgksh_"
      },
      "source": [
        "# Values for Normalization\n",
        "mean = [0.485, 0.456, 0.406]\n",
        "std = [0.229, 0.224, 0.225]"
      ],
      "execution_count": null,
      "outputs": []
    },
    {
      "cell_type": "markdown",
      "metadata": {
        "id": "1EeSC3pUUK9d"
      },
      "source": [
        "If we wanted to do different transforms depending on the dataset, we could do it like this:"
      ]
    },
    {
      "cell_type": "code",
      "metadata": {
        "id": "6rso-BwOj0DY"
      },
      "source": [
        "# Image Transformation\n",
        "data_transforms = {\n",
        "    'train': transforms.Compose([\n",
        "        transforms.Resize(256),\n",
        "        transforms.CenterCrop(224),\n",
        "        transforms.ToTensor(),\n",
        "        transforms.Normalize(mean, std)\n",
        "    ]), \n",
        "\n",
        "    'valid': transforms.Compose([\n",
        "        transforms.Resize(256),\n",
        "        transforms.CenterCrop(224),\n",
        "        transforms.ToTensor(),\n",
        "        transforms.Normalize(mean, std)\n",
        "    ]),\n",
        "\n",
        "    'test': transforms.Compose([\n",
        "        transforms.Resize(256),\n",
        "        transforms.CenterCrop(224),\n",
        "        transforms.ToTensor(),\n",
        "        transforms.Normalize(mean, std)\n",
        "    ]),\n",
        "}"
      ],
      "execution_count": null,
      "outputs": []
    },
    {
      "cell_type": "markdown",
      "metadata": {
        "id": "i1tT4RvlUT_b"
      },
      "source": [
        "But as in this case, we are going to apply the same transforms to all the data, we can unify this in one."
      ]
    },
    {
      "cell_type": "code",
      "metadata": {
        "id": "SrVDrBPRANgO"
      },
      "source": [
        "# General transform\n",
        "transform = transforms.Compose([\n",
        "  transforms.Resize(256),\n",
        "  transforms.CenterCrop(224),\n",
        "  transforms.ToTensor(),\n",
        "  transforms.Normalize(mean, std)\n",
        "])"
      ],
      "execution_count": null,
      "outputs": []
    },
    {
      "cell_type": "markdown",
      "metadata": {
        "id": "vKigNeONlH4Z"
      },
      "source": [
        "### Custom Dataset class"
      ]
    },
    {
      "cell_type": "markdown",
      "metadata": {
        "id": "-3jcEsuOqTVx"
      },
      "source": [
        "We turn the labels into arrays, where the position of the corresponding label in the `unique_breeds` array is set to `True`\n"
      ]
    },
    {
      "cell_type": "code",
      "metadata": {
        "colab": {
          "base_uri": "https://localhost:8080/",
          "height": 640
        },
        "id": "WkS2xd2hpWnT",
        "outputId": "324f0978-3f13-4b54-95b6-fb471a4479f3"
      },
      "source": [
        "# Create boolean_labels\n",
        "boolean_labels = [label == unique_breeds for label in labels]\n",
        "\n",
        "# Example\n",
        "print(boolean_labels[900])\n",
        "# At index 70 there is a True, and that position in the unique_breeds array\n",
        "# corresponds to the breed 'lhasa'\n",
        "print(unique_breeds[70])\n",
        "# If we look at the dog, it matches\n",
        "Image1(filenames[900])"
      ],
      "execution_count": null,
      "outputs": [
        {
          "output_type": "stream",
          "text": [
            "[False False False False False False False False False False False False\n",
            " False False False False False False False False False False False False\n",
            " False False False False False False False False False False False False\n",
            " False False False False False False False False False False False False\n",
            " False False False False False False False False False False False False\n",
            " False False False False False False False False False False  True False\n",
            " False False False False False False False False False False False False\n",
            " False False False False False False False False False False False False\n",
            " False False False False False False False False False False False False\n",
            " False False False False False False False False False False False False]\n",
            "lhasa\n"
          ],
          "name": "stdout"
        },
        {
          "output_type": "execute_result",
          "data": {
            "image/jpeg": "[encoded data removed]",
            "text/plain": [
              "<IPython.core.display.Image object>"
            ]
          },
          "metadata": {
            "tags": []
          },
          "execution_count": 27
        }
      ]
    },
    {
      "cell_type": "code",
      "metadata": {
        "colab": {
          "base_uri": "https://localhost:8080/"
        },
        "id": "5OPIZXk3BUZ0",
        "outputId": "f7877a61-93c7-464e-b0c3-31c58d7be7a5"
      },
      "source": [
        "# Convert boolean_labels into a numpy array\n",
        "aux = np.array(boolean_labels)\n",
        "print(len(aux))\n",
        "\n",
        "# Convert the boolean arrays into int arrays\n",
        "int_labels = aux.astype(int)\n",
        "\n",
        "# Check everything went as expected\n",
        "print(int_labels[0])\n",
        "print(len(int_labels))\n",
        "\n",
        "# Find the index of the highest value\n",
        "int_labels[0].argmax()"
      ],
      "execution_count": null,
      "outputs": [
        {
          "output_type": "stream",
          "text": [
            "10222\n",
            "[0 0 0 0 0 0 0 0 0 0 0 0 0 0 0 0 0 0 0 1 0 0 0 0 0 0 0 0 0 0 0 0 0 0 0 0 0\n",
            " 0 0 0 0 0 0 0 0 0 0 0 0 0 0 0 0 0 0 0 0 0 0 0 0 0 0 0 0 0 0 0 0 0 0 0 0 0\n",
            " 0 0 0 0 0 0 0 0 0 0 0 0 0 0 0 0 0 0 0 0 0 0 0 0 0 0 0 0 0 0 0 0 0 0 0 0 0\n",
            " 0 0 0 0 0 0 0 0 0]\n",
            "10222\n"
          ],
          "name": "stdout"
        },
        {
          "output_type": "execute_result",
          "data": {
            "text/plain": [
              "19"
            ]
          },
          "metadata": {
            "tags": []
          },
          "execution_count": 28
        }
      ]
    },
    {
      "cell_type": "markdown",
      "metadata": {
        "id": "FL6SDRtLKi0v"
      },
      "source": [
        "We must define some important parameters:\n",
        "\n"
      ]
    },
    {
      "cell_type": "code",
      "metadata": {
        "id": "itRQM2GVKLAu"
      },
      "source": [
        "# Hyperparameters\n",
        "in_channel = 3\n",
        "num_classes = len(unique_breeds)\n",
        "learning_rate = 1e-3\n",
        "batch_size = 32\n",
        "num_epochs = 25"
      ],
      "execution_count": null,
      "outputs": []
    },
    {
      "cell_type": "markdown",
      "metadata": {
        "id": "2u7lrBGeKm3y"
      },
      "source": [
        "We create a custom Dataset:"
      ]
    },
    {
      "cell_type": "code",
      "metadata": {
        "id": "bLotpOWFhs3N"
      },
      "source": [
        "class DogVisionDataset(Dataset):\n",
        "  def __init__(self, filenames, int_labels, transform=None):\n",
        "    self.filenames = filenames\n",
        "    self.int_labels = int_labels\n",
        "    self.transform = transform\n",
        "\n",
        "  def __len__(self):\n",
        "    return len(self.filenames)\n",
        "\n",
        "  def __getitem__(self, index):\n",
        "    # making random_split compatible\n",
        "    if torch.is_tensor(index):\n",
        "      index = index.tolist()\n",
        "    \n",
        "    image = Image.open(self.filenames[index])\n",
        "    y_label = torch.tensor(self.int_labels[index].argmax())\n",
        "\n",
        "    if self.transform:\n",
        "      image = self.transform(image)\n",
        "\n",
        "    return (image, y_label)"
      ],
      "execution_count": null,
      "outputs": []
    },
    {
      "cell_type": "code",
      "metadata": {
        "id": "DLD09tfSkYH6"
      },
      "source": [
        "X_dataset = DogVisionDataset(filenames=filenames, int_labels=int_labels, transform=data_transforms['train'])"
      ],
      "execution_count": null,
      "outputs": []
    },
    {
      "cell_type": "code",
      "metadata": {
        "colab": {
          "base_uri": "https://localhost:8080/"
        },
        "id": "0M0JUsK2k2ef",
        "outputId": "cc0407e6-0023-47bf-a35d-7a69950bd96a"
      },
      "source": [
        "len(X_dataset)"
      ],
      "execution_count": null,
      "outputs": [
        {
          "output_type": "execute_result",
          "data": {
            "text/plain": [
              "10222"
            ]
          },
          "metadata": {
            "tags": []
          },
          "execution_count": 22
        }
      ]
    },
    {
      "cell_type": "code",
      "metadata": {
        "id": "ybomUZaPmo3s"
      },
      "source": [
        "train_dataset_size = int(len(X_dataset) * 0.8)\n",
        "val_dataset_size = len(X_dataset) - train_dataset_size"
      ],
      "execution_count": null,
      "outputs": []
    },
    {
      "cell_type": "code",
      "metadata": {
        "id": "f1JNlnGpkkSN"
      },
      "source": [
        "# separate into training set and validation set\n",
        "train_set, val_set = torch.utils.data.random_split(X_dataset, (train_dataset_size, val_dataset_size))"
      ],
      "execution_count": null,
      "outputs": []
    },
    {
      "cell_type": "code",
      "metadata": {
        "id": "gkIlsx8pEc0_"
      },
      "source": [
        "# Create DataLoaders\n",
        "train_loader = DataLoader(dataset=train_set, batch_size=batch_size, shuffle=True)\n",
        "val_loader = DataLoader(dataset=val_set, batch_size=batch_size)"
      ],
      "execution_count": null,
      "outputs": []
    },
    {
      "cell_type": "code",
      "metadata": {
        "colab": {
          "base_uri": "https://localhost:8080/"
        },
        "id": "Wjn7DDRYp4sW",
        "outputId": "bea0d5f4-4909-4d13-c189-47c7d57da859"
      },
      "source": [
        "# See one example\n",
        "images, labels = next(iter(train_loader))\n",
        "# first image in batch\n",
        "print(images[0])\n",
        "# first label in batch\n",
        "print(labels[0])"
      ],
      "execution_count": null,
      "outputs": [
        {
          "output_type": "stream",
          "text": [
            "tensor([[[-1.0219, -1.0219, -0.7993,  ...,  0.1083,  0.2967,  0.3481],\n",
            "         [-0.7993, -1.0219, -1.0562,  ...,  0.4679,  0.2796, -0.1314],\n",
            "         [-0.5596, -0.5253, -0.5253,  ...,  0.6392,  0.2967,  0.3309],\n",
            "         ...,\n",
            "         [ 2.0948,  2.0092,  1.8379,  ...,  0.5022,  0.3652, -0.0116],\n",
            "         [ 1.7694,  1.8379,  1.6838,  ...,  0.2796, -0.1486,  0.2111],\n",
            "         [ 1.6838,  1.8037,  1.6324,  ...,  0.4851,  0.2624, -0.1828]],\n",
            "\n",
            "        [[-0.8102, -0.7752, -0.5126,  ...,  0.1877,  0.3627,  0.3803],\n",
            "         [-0.6352, -0.8452, -0.8627,  ...,  0.5203,  0.3102, -0.1099],\n",
            "         [-0.4251, -0.3725, -0.3725,  ...,  0.6954,  0.3277,  0.3452],\n",
            "         ...,\n",
            "         [ 2.1660,  2.1134,  1.9909,  ...,  0.2752,  0.1352, -0.2150],\n",
            "         [ 1.7983,  1.9034,  1.8158,  ...,  0.0301, -0.4426, -0.0749],\n",
            "         [ 1.6758,  1.8333,  1.7108,  ...,  0.1527, -0.1099, -0.6001]],\n",
            "\n",
            "        [[-0.4798, -0.4275, -0.1661,  ...,  0.1476,  0.3393,  0.3916],\n",
            "         [-0.3578, -0.5495, -0.5670,  ...,  0.4265,  0.2348, -0.1661],\n",
            "         [-0.1835, -0.1312, -0.0964,  ...,  0.5659,  0.2173,  0.2522],\n",
            "         ...,\n",
            "         [ 2.3088,  2.2391,  2.1171,  ...,  0.1302, -0.1487, -0.5844],\n",
            "         [ 1.9603,  2.0474,  1.9428,  ..., -0.1487, -0.7064, -0.4798],\n",
            "         [ 1.8208,  1.9603,  1.8208,  ..., -0.1312, -0.5321, -1.0724]]])\n",
            "tensor(56)\n"
          ],
          "name": "stdout"
        }
      ]
    },
    {
      "cell_type": "markdown",
      "metadata": {
        "id": "KMIdLY8pSMgr"
      },
      "source": [
        "### Second Custom DataSet class - Kaggle inspired\n",
        "\n",
        "After investigation more, found an interesting kaggle resource to create nice custom Datasets.\n",
        "\n",
        "https://www.kaggle.com/mratsim/starting-kit-for-pytorch-deep-learning"
      ]
    },
    {
      "cell_type": "code",
      "metadata": {
        "id": "ztVRNI2LSnEt"
      },
      "source": [
        "class KaggleDataSet(Dataset):\n",
        "  \"\"\"\n",
        "  Arguments:\n",
        "      A CSV file path\n",
        "      Path to image folder\n",
        "      Extension of images\n",
        "      PIL transforms\n",
        "  \"\"\"\n",
        "\n",
        "  def __init__(self, csv_path, img_path, img_ext, transform=None):\n",
        "\n",
        "    tmp_df = pd.read_csv(csv_path)\n",
        "    assert tmp_df['id'].apply(lambda x: os.path.isfile(img_path + x + img_ext)\n",
        "          ).all(), \\\n",
        "          \"Some images referenced in the csv file were not found\"\n",
        "    \n",
        "    self.mlb = MultiLabelBinarizer()\n",
        "    self.img_path = img_path\n",
        "    self.img_ext = img_ext\n",
        "    self.transform = transform\n",
        "\n",
        "    self.X_train = tmp_df['id']\n",
        "    self.y_train = self.mlb.fit_transform(tmp_df['breed'].str.split()).astype(np.float32)\n",
        "\n",
        "  def __getitem__(self, index):\n",
        "    img = Image.open(self.img_path + self.X_train[index] + self.img_ext)\n",
        "    img = img.convert('RGB')\n",
        "    if self.transform is not None:\n",
        "      img = self.transform(img)\n",
        "    # since we are using nn.CrossEntropyLoss, and the target has to be\n",
        "    # a single number from the interval [0, #classes], we do the following:\n",
        "    label = torch.tensor(self.y_train[index].argmax())\n",
        "    return img, label\n",
        "\n",
        "  def __len__(self):\n",
        "    return len(self.X_train.index)"
      ],
      "execution_count": null,
      "outputs": []
    },
    {
      "cell_type": "code",
      "metadata": {
        "id": "pk4EBvXoXNoJ"
      },
      "source": [
        "kaggle_dset = KaggleDataSet(TRAIN_DATA, IMG_PATH, IMG_EXT, transform)"
      ],
      "execution_count": null,
      "outputs": []
    },
    {
      "cell_type": "code",
      "metadata": {
        "id": "SMkz5nFI1UBj"
      },
      "source": [
        "# dset sizes\n",
        "kaggle_train_dset_size = int(len(kaggle_dset) * 0.8)\n",
        "kaggle_val_dset_size = len(kaggle_dset) - kaggle_train_dset_size"
      ],
      "execution_count": null,
      "outputs": []
    },
    {
      "cell_type": "code",
      "metadata": {
        "id": "_XIA9Iik07Y2"
      },
      "source": [
        "# separate into training set and validation set\n",
        "kaggle_train_dset, kaggle_val_dset = torch.utils.data.random_split(kaggle_dset, (kaggle_train_dset_size, kaggle_val_dset_size))"
      ],
      "execution_count": null,
      "outputs": []
    },
    {
      "cell_type": "code",
      "metadata": {
        "id": "UJjarPOP1QuE"
      },
      "source": [
        "# create the dataloaders\n",
        "kaggle_data_loaders = {\n",
        "    'train': DataLoader(kaggle_train_dset, batch_size=batch_size, shuffle=True),\n",
        "    'val': DataLoader(kaggle_val_dset, batch_size=batch_size)\n",
        "}"
      ],
      "execution_count": null,
      "outputs": []
    },
    {
      "cell_type": "markdown",
      "metadata": {
        "id": "cdyCu8VQbnEE"
      },
      "source": [
        "### Custom Dataset class for unlabled data\n",
        "\n",
        "At the end, we will want to create a dataset of unlabled data in order to make predictions of images that don't have labels. Therefore we will create another custom class. "
      ]
    },
    {
      "cell_type": "code",
      "metadata": {
        "id": "fT1ij51Db9ru"
      },
      "source": [
        "class UnlabledDataset(Dataset):\n",
        "  \"\"\"\n",
        "  Arguments:\n",
        "      Array of paths to img files\n",
        "      PIL transforms\n",
        "  \"\"\"\n",
        "\n",
        "  def __init__(self, filenames, transform=None):\n",
        "\n",
        "    self.filenames = filenames\n",
        "    self.transform = transform\n",
        "\n",
        "  def __getitem__(self, index):\n",
        "    # making random_split compatible\n",
        "    if torch.is_tensor(index):\n",
        "      index = index.tolist()\n",
        "\n",
        "    img = Image.open(self.filenames[index])\n",
        "    img = img.convert('RGB')\n",
        "    if self.transform is not None:\n",
        "      img = self.transform(img)\n",
        "\n",
        "    return img\n",
        "\n",
        "  def __len__(self):\n",
        "    return len(self.filenames)"
      ],
      "execution_count": null,
      "outputs": []
    },
    {
      "cell_type": "markdown",
      "metadata": {
        "id": "r7DEwaBSArGv"
      },
      "source": [
        "### Creating an experimental DataSet\n",
        "\n",
        "As the dataset is quite large, and we still don't know if everything is going to work correctly, we are going to create a smaller dataset to experiment on it and make sure everything is working fine.\n",
        "\n",
        "For that we will:\n",
        "\n",
        "1. Take only 1000 images and their labels.\n",
        "2. Create a `small_dataset` with our custom `DogVisionDataset`.\n",
        "3. Divide this just created `small_dataset`, into a `small_train_set` and a `small_test_set`.\n",
        "4. Divide this just created `small_train_set`, into an actual `train_subset` and a `val_subset` set. \n"
      ]
    },
    {
      "cell_type": "code",
      "metadata": {
        "colab": {
          "base_uri": "https://localhost:8080/"
        },
        "id": "frw7nK3GAqqT",
        "outputId": "160787f2-0e92-4cfa-abda-c26d103bdf6c"
      },
      "source": [
        "# Size of the complete Dataset\n",
        "print(len(filenames)) # img_paths\n",
        "print(len(int_labels)) # labels"
      ],
      "execution_count": null,
      "outputs": [
        {
          "output_type": "stream",
          "text": [
            "10222\n",
            "10222\n"
          ],
          "name": "stdout"
        }
      ]
    },
    {
      "cell_type": "code",
      "metadata": {
        "id": "rDbNAVqJBDFs"
      },
      "source": [
        "# Let's take just a 1000 images\n",
        "small_filenames = filenames[:1000]\n",
        "small_int_labels = int_labels[:1000]"
      ],
      "execution_count": null,
      "outputs": []
    },
    {
      "cell_type": "code",
      "metadata": {
        "id": "pyjNz9uwB20k"
      },
      "source": [
        "small_dataset = DogVisionDataset(filenames=small_filenames, int_labels=small_int_labels, transform=transform)"
      ],
      "execution_count": null,
      "outputs": []
    },
    {
      "cell_type": "code",
      "metadata": {
        "id": "xe1CbavBC8PB"
      },
      "source": [
        "# Let's divide the data into train and test datasets\n",
        "# First we declare the sizes of the train and test datasets\n",
        "small_dataset_train_size = int(len(small_dataset) * 0.9)\n",
        "small_dataset_test_size = len(small_dataset) - small_dataset_train_size"
      ],
      "execution_count": null,
      "outputs": []
    },
    {
      "cell_type": "code",
      "metadata": {
        "colab": {
          "base_uri": "https://localhost:8080/"
        },
        "id": "b6aEp5NXDeFh",
        "outputId": "0e12713c-5515-48f7-e1de-7799384815c3"
      },
      "source": [
        "print(small_dataset_train_size)\n",
        "print(small_dataset_test_size)"
      ],
      "execution_count": null,
      "outputs": [
        {
          "output_type": "stream",
          "text": [
            "900\n",
            "100\n"
          ],
          "name": "stdout"
        }
      ]
    },
    {
      "cell_type": "code",
      "metadata": {
        "id": "Zhb-Cc_SDvR5"
      },
      "source": [
        "# Now we divide the dataset\n",
        "small_train_set, small_test_set = torch.utils.data.random_split(small_dataset, (small_dataset_train_size, small_dataset_test_size))"
      ],
      "execution_count": null,
      "outputs": []
    },
    {
      "cell_type": "code",
      "metadata": {
        "colab": {
          "base_uri": "https://localhost:8080/"
        },
        "id": "MaGEf0auEE0M",
        "outputId": "dc5bc194-b3ec-46ac-b862-0c20ff41f441"
      },
      "source": [
        "# Let's check their sizes\n",
        "print(len(small_train_set))\n",
        "print(len(small_test_set))"
      ],
      "execution_count": null,
      "outputs": [
        {
          "output_type": "stream",
          "text": [
            "900\n",
            "100\n"
          ],
          "name": "stdout"
        }
      ]
    },
    {
      "cell_type": "code",
      "metadata": {
        "id": "_jq9fAuWEXNg"
      },
      "source": [
        "# Now let's divide the train set, into train set and val set\n",
        "# Firs, we declare again the sizes of both datasets\n",
        "train_subset_size = int(len(small_train_set) * 0.8)\n",
        "val_subset_size = len(small_train_set) - train_subset_size"
      ],
      "execution_count": null,
      "outputs": []
    },
    {
      "cell_type": "code",
      "metadata": {
        "colab": {
          "base_uri": "https://localhost:8080/"
        },
        "id": "Up2xP2nCFFmb",
        "outputId": "1e13aaf7-b3e9-4308-ab47-351b290c2342"
      },
      "source": [
        "print(train_subset_size)\n",
        "print(val_subset_size)"
      ],
      "execution_count": null,
      "outputs": [
        {
          "output_type": "stream",
          "text": [
            "720\n",
            "180\n"
          ],
          "name": "stdout"
        }
      ]
    },
    {
      "cell_type": "code",
      "metadata": {
        "id": "tZXZ43fVFJ4r"
      },
      "source": [
        "# Now we do the actual division\n",
        "train_subset, val_subset = torch.utils.data.random_split(small_train_set, (train_subset_size, val_subset_size))"
      ],
      "execution_count": null,
      "outputs": []
    },
    {
      "cell_type": "code",
      "metadata": {
        "colab": {
          "base_uri": "https://localhost:8080/"
        },
        "id": "P-gnwF03Ffer",
        "outputId": "273c7d0e-e1cb-45eb-ce92-2a12602ef577"
      },
      "source": [
        "# Check their sizes\n",
        "print(len(train_subset))\n",
        "print(len(val_subset))"
      ],
      "execution_count": null,
      "outputs": [
        {
          "output_type": "stream",
          "text": [
            "720\n",
            "180\n"
          ],
          "name": "stdout"
        }
      ]
    },
    {
      "cell_type": "code",
      "metadata": {
        "id": "8aJyu9nKIyHr"
      },
      "source": [
        "# Data Loaders for the small dataset\n",
        "small_data_loaders = {\n",
        "    'train': torch.utils.data.DataLoader(train_subset, batch_size=batch_size, shuffle=True),\n",
        "    'val': torch.utils.data.DataLoader(val_subset, batch_size=batch_size),\n",
        "    'test': torch.utils.data.DataLoader(small_test_set, batch_size=batch_size)\n",
        "}"
      ],
      "execution_count": null,
      "outputs": []
    },
    {
      "cell_type": "markdown",
      "metadata": {
        "id": "yvm1E9xlqXEG"
      },
      "source": [
        "## Building a Model"
      ]
    },
    {
      "cell_type": "markdown",
      "metadata": {
        "id": "H3PBxNvwukBm"
      },
      "source": [
        "### Define input and output shape"
      ]
    },
    {
      "cell_type": "code",
      "metadata": {
        "id": "75AFx1dKuh2x"
      },
      "source": [
        "# Setup input shape to the model\n",
        "INPUT_SHAPE = [3, 224, 224]\n",
        "\n",
        "# Setup output shape to the model\n",
        "OUTPUT_SHAPE = len(unique_breeds)"
      ],
      "execution_count": null,
      "outputs": []
    },
    {
      "cell_type": "markdown",
      "metadata": {
        "id": "w8VAvh6Pw80N"
      },
      "source": [
        "### Function to create a resnet18 model"
      ]
    },
    {
      "cell_type": "code",
      "metadata": {
        "id": "siZ6kIDXq-e-"
      },
      "source": [
        "def create_resnet18_model(output_size, pretrained=True):\n",
        "  \"\"\"\n",
        "  function to create a resnet18 model\n",
        "  \"\"\"\n",
        "  \n",
        "  model = models.resnet18(pretrained=pretrained)\n",
        "  \n",
        "  for param in model.parameters():\n",
        "    param.requires_grad = False\n",
        "\n",
        "  num_ftrs = model.fc.in_features\n",
        "  # define the size of the input and output samples\n",
        "  model.fc = nn.Linear(num_ftrs, output_size)\n",
        "\n",
        "  return model"
      ],
      "execution_count": null,
      "outputs": []
    },
    {
      "cell_type": "markdown",
      "metadata": {
        "id": "MhhyAQvUxFsY"
      },
      "source": [
        "## Define train and test functions"
      ]
    },
    {
      "cell_type": "markdown",
      "metadata": {
        "id": "9V3IG0L7xKV_"
      },
      "source": [
        "### Train Function"
      ]
    },
    {
      "cell_type": "markdown",
      "metadata": {
        "id": "nGZDl6Cs705a"
      },
      "source": [
        "The `train()` function **must receive**:\n",
        "\n",
        "* `model`: The model we want to train.\n",
        "* `dataloaders`: Object with 2 `DataLoaders`, one with a `train` `DataLoader` and another one with a `val` `DataLoader`.\n",
        "* `criterion`:\n",
        "* `optimizer`:\n",
        "* `num_epochs`: number of times we want to iterate through the complete dataset. Default set to 25.\n"
      ]
    },
    {
      "cell_type": "code",
      "metadata": {
        "id": "T_b96YOQx9yb"
      },
      "source": [
        "def train(model, dataloaders, criterion, optimizer, num_epochs=25, is_inception=False): \n",
        "  \"\"\"\n",
        "  returns a trained model\n",
        "  \"\"\"\n",
        "  since = time.time()\n",
        "\n",
        "  val_acc_history = []\n",
        "\n",
        "  best_model_wts = copy.deepcopy(model.state_dict())\n",
        "  best_acc = 0.0\n",
        "\n",
        "  for epoch in range(num_epochs):\n",
        "    print('Epoch {}/{}'.format(epoch, num_epochs - 1))\n",
        "    print('-' * 10)\n",
        "  \n",
        "    # Each epoch has a training and validation phase\n",
        "    for phase in ['train', 'val']:\n",
        "      if phase == 'train':\n",
        "        model.train() # Set model to training mode\n",
        "      else:\n",
        "        model.eval() # Set model to evaluate mode\n",
        "\n",
        "      running_loss = 0.0\n",
        "      running_corrects = 0\n",
        "\n",
        "\n",
        "      # Iterate over data.\n",
        "      for inputs, labels in dataloaders[phase]:\n",
        "        inputs = inputs.to(device)\n",
        "        labels = labels.to(device)\n",
        "\n",
        "        # zero the parameter gradients\n",
        "        optimizer.zero_grad()\n",
        "\n",
        "        # forward\n",
        "        # track history if only in train\n",
        "        with torch.set_grad_enabled(phase == 'train'):\n",
        "          # Get model outputs and calculate loss\n",
        "          # Special case for inception because in training it has an auxiliary output. In train\n",
        "          #   mode we calculate the loss by summing the final output and the auxiliary output\n",
        "          #   but in testing we only consider the final output.\n",
        "          if is_inception and phase == 'train':\n",
        "            # From https://discuss.pytorch.org/t/how-to-optimize-inception-model-with-auxiliary-classifiers/7958\n",
        "            outputs, aux_outputs = model(inputs)\n",
        "            loss1 = criterion(outputs, labels)\n",
        "            loss2 = criterion(aux_outputs, labels)\n",
        "            loss = loss1 + 0.4*loss2\n",
        "          else:\n",
        "            outputs = model(inputs)\n",
        "            loss = criterion(outputs, labels)\n",
        "          \n",
        "          _, preds = torch.max(outputs, 1)\n",
        "\n",
        "          # backward + optimize only if in training phase\n",
        "          if phase == 'train':\n",
        "            loss.backward()\n",
        "            optimizer.step()\n",
        "        \n",
        "        # statistics\n",
        "        running_loss += loss.item() * inputs.size(0)\n",
        "        running_corrects += torch.sum(preds == labels.data)\n",
        "      \n",
        "      epoch_loss = running_loss / len(dataloaders[phase].dataset)\n",
        "      epoch_acc = running_corrects.double() / len(dataloaders[phase].dataset)\n",
        "\n",
        "      print('{} Loss: {:.4f} Acc: {:.4f}'.format(phase, epoch_loss, epoch_acc))\n",
        "\n",
        "      # deep copy the model\n",
        "      if phase == 'val' and epoch_acc > best_acc:\n",
        "        best_acc = epoch_acc\n",
        "        best_model_wts = copy.deepcopy(model.state_dict())\n",
        "      if phase == 'val':\n",
        "        val_acc_history.append(epoch_acc)\n",
        "    \n",
        "    print()\n",
        "  \n",
        "  time_elapsed = time.time() - since\n",
        "  print('Training complete in {:.0f}m {:.0f}s'.format(time_elapsed // 60, time_elapsed % 60))\n",
        "  print('Best val Acc: {:4f}'.format(best_acc))\n",
        "\n",
        "  # load best model weights\n",
        "  model.load_state_dict(best_model_wts)\n",
        "  \n",
        "  return model, val_acc_history"
      ],
      "execution_count": null,
      "outputs": []
    },
    {
      "cell_type": "markdown",
      "metadata": {
        "id": "1BA9dx757ymF"
      },
      "source": [
        "### Test Function"
      ]
    },
    {
      "cell_type": "markdown",
      "metadata": {
        "id": "BzgQ-X5J_dyZ"
      },
      "source": [
        "The `test()` function **must receive**:\n",
        "\n",
        "* `model`: The model we want to train.\n",
        "* `dataloaders`: Object with a `test` `DataLoaders` \n",
        "* `criterion`:\n"
      ]
    },
    {
      "cell_type": "code",
      "metadata": {
        "id": "prb4WtVL-ZJo"
      },
      "source": [
        "def test(model, dataloaders, criterion):\n",
        "\n",
        "  # monitor test loss and accuracy\n",
        "  test_loss = 0.\n",
        "  correct = 0.\n",
        "  total = 0.\n",
        "\n",
        "  model.eval()\n",
        "  for batch, (data, target) in enumerate(dataloaders['test']):\n",
        "    print('Batch: {} / {}'.format(batch, len(dataloaders['test'])))\n",
        "    \n",
        "    # move to device\n",
        "    data, target = data.to(device), target.to(device)\n",
        "    # forward pass: compute predicted outputs by passing inputs to the model\n",
        "    output = model(data)\n",
        "    # calculate the loss\n",
        "    loss = criterion(output, target)\n",
        "    # update average test loss\n",
        "    test_loss = test_loss + ((1 / (batch + 1)) * (loss.data - test_loss))\n",
        "    # convert output probabilities to predicted class\n",
        "    pred = output.data.max(1, keepdim=True)[1]\n",
        "    # compare predictions to true label\n",
        "    correct += np.sum(np.squeeze(pred.eq(target.data.view_as(pred))).cpu().numpy())\n",
        "    total += data.size(0)\n",
        "\n",
        "  print('Test Loss: {:.6f}\\n'.format(test_loss))\n",
        "  print('\\nTest Accuracy: %2d%% (%2d/%2d)' % (\n",
        "        100. * correct / total, correct, total))"
      ],
      "execution_count": null,
      "outputs": []
    },
    {
      "cell_type": "markdown",
      "metadata": {
        "id": "TKnXFEaWWoEM"
      },
      "source": [
        "## Testing the train and test functions"
      ]
    },
    {
      "cell_type": "markdown",
      "metadata": {
        "id": "LHa05yxi_bNX"
      },
      "source": [
        "### Training on a subset of the data"
      ]
    },
    {
      "cell_type": "code",
      "metadata": {
        "colab": {
          "base_uri": "https://localhost:8080/",
          "height": 1000,
          "referenced_widgets": [
            "90fb9c5b222f4b37aae15805d16cf468",
            "2a955271c09c4ad8b563012416e565a5",
            "a263b1f472994f749840b7d89a48c7f8",
            "fa514674a96c49aca0c08722acf55ed8",
            "8f1ee04258c148d5b0ecaf5c2c23e1de",
            "7820b8b6d7cb4482bf78a95aa5034eb2",
            "4a54244ec80b4e47802624964d044d59",
            "cc2c2acc36e142b8ab38f731dd5c4b43"
          ]
        },
        "id": "Ucge_qIPAAl3",
        "outputId": "c120b934-4d3e-4e8c-b41f-86985d08184f"
      },
      "source": [
        "# Create the model and move it to the device\n",
        "model = create_resnet18_model(OUTPUT_SHAPE, pretrained=True)\n",
        "model.to(device)"
      ],
      "execution_count": null,
      "outputs": [
        {
          "output_type": "stream",
          "text": [
            "Downloading: \"https://download.pytorch.org/models/resnet18-5c106cde.pth\" to /root/.cache/torch/hub/checkpoints/resnet18-5c106cde.pth\n"
          ],
          "name": "stderr"
        },
        {
          "output_type": "display_data",
          "data": {
            "application/vnd.jupyter.widget-view+json": {
              "model_id": "90fb9c5b222f4b37aae15805d16cf468",
              "version_major": 2,
              "version_minor": 0
            },
            "text/plain": [
              "HBox(children=(FloatProgress(value=0.0, max=46827520.0), HTML(value='')))"
            ]
          },
          "metadata": {
            "tags": []
          }
        },
        {
          "output_type": "stream",
          "text": [
            "\n"
          ],
          "name": "stdout"
        },
        {
          "output_type": "execute_result",
          "data": {
            "text/plain": [
              "ResNet(\n",
              "  (conv1): Conv2d(3, 64, kernel_size=(7, 7), stride=(2, 2), padding=(3, 3), bias=False)\n",
              "  (bn1): BatchNorm2d(64, eps=1e-05, momentum=0.1, affine=True, track_running_stats=True)\n",
              "  (relu): ReLU(inplace=True)\n",
              "  (maxpool): MaxPool2d(kernel_size=3, stride=2, padding=1, dilation=1, ceil_mode=False)\n",
              "  (layer1): Sequential(\n",
              "    (0): BasicBlock(\n",
              "      (conv1): Conv2d(64, 64, kernel_size=(3, 3), stride=(1, 1), padding=(1, 1), bias=False)\n",
              "      (bn1): BatchNorm2d(64, eps=1e-05, momentum=0.1, affine=True, track_running_stats=True)\n",
              "      (relu): ReLU(inplace=True)\n",
              "      (conv2): Conv2d(64, 64, kernel_size=(3, 3), stride=(1, 1), padding=(1, 1), bias=False)\n",
              "      (bn2): BatchNorm2d(64, eps=1e-05, momentum=0.1, affine=True, track_running_stats=True)\n",
              "    )\n",
              "    (1): BasicBlock(\n",
              "      (conv1): Conv2d(64, 64, kernel_size=(3, 3), stride=(1, 1), padding=(1, 1), bias=False)\n",
              "      (bn1): BatchNorm2d(64, eps=1e-05, momentum=0.1, affine=True, track_running_stats=True)\n",
              "      (relu): ReLU(inplace=True)\n",
              "      (conv2): Conv2d(64, 64, kernel_size=(3, 3), stride=(1, 1), padding=(1, 1), bias=False)\n",
              "      (bn2): BatchNorm2d(64, eps=1e-05, momentum=0.1, affine=True, track_running_stats=True)\n",
              "    )\n",
              "  )\n",
              "  (layer2): Sequential(\n",
              "    (0): BasicBlock(\n",
              "      (conv1): Conv2d(64, 128, kernel_size=(3, 3), stride=(2, 2), padding=(1, 1), bias=False)\n",
              "      (bn1): BatchNorm2d(128, eps=1e-05, momentum=0.1, affine=True, track_running_stats=True)\n",
              "      (relu): ReLU(inplace=True)\n",
              "      (conv2): Conv2d(128, 128, kernel_size=(3, 3), stride=(1, 1), padding=(1, 1), bias=False)\n",
              "      (bn2): BatchNorm2d(128, eps=1e-05, momentum=0.1, affine=True, track_running_stats=True)\n",
              "      (downsample): Sequential(\n",
              "        (0): Conv2d(64, 128, kernel_size=(1, 1), stride=(2, 2), bias=False)\n",
              "        (1): BatchNorm2d(128, eps=1e-05, momentum=0.1, affine=True, track_running_stats=True)\n",
              "      )\n",
              "    )\n",
              "    (1): BasicBlock(\n",
              "      (conv1): Conv2d(128, 128, kernel_size=(3, 3), stride=(1, 1), padding=(1, 1), bias=False)\n",
              "      (bn1): BatchNorm2d(128, eps=1e-05, momentum=0.1, affine=True, track_running_stats=True)\n",
              "      (relu): ReLU(inplace=True)\n",
              "      (conv2): Conv2d(128, 128, kernel_size=(3, 3), stride=(1, 1), padding=(1, 1), bias=False)\n",
              "      (bn2): BatchNorm2d(128, eps=1e-05, momentum=0.1, affine=True, track_running_stats=True)\n",
              "    )\n",
              "  )\n",
              "  (layer3): Sequential(\n",
              "    (0): BasicBlock(\n",
              "      (conv1): Conv2d(128, 256, kernel_size=(3, 3), stride=(2, 2), padding=(1, 1), bias=False)\n",
              "      (bn1): BatchNorm2d(256, eps=1e-05, momentum=0.1, affine=True, track_running_stats=True)\n",
              "      (relu): ReLU(inplace=True)\n",
              "      (conv2): Conv2d(256, 256, kernel_size=(3, 3), stride=(1, 1), padding=(1, 1), bias=False)\n",
              "      (bn2): BatchNorm2d(256, eps=1e-05, momentum=0.1, affine=True, track_running_stats=True)\n",
              "      (downsample): Sequential(\n",
              "        (0): Conv2d(128, 256, kernel_size=(1, 1), stride=(2, 2), bias=False)\n",
              "        (1): BatchNorm2d(256, eps=1e-05, momentum=0.1, affine=True, track_running_stats=True)\n",
              "      )\n",
              "    )\n",
              "    (1): BasicBlock(\n",
              "      (conv1): Conv2d(256, 256, kernel_size=(3, 3), stride=(1, 1), padding=(1, 1), bias=False)\n",
              "      (bn1): BatchNorm2d(256, eps=1e-05, momentum=0.1, affine=True, track_running_stats=True)\n",
              "      (relu): ReLU(inplace=True)\n",
              "      (conv2): Conv2d(256, 256, kernel_size=(3, 3), stride=(1, 1), padding=(1, 1), bias=False)\n",
              "      (bn2): BatchNorm2d(256, eps=1e-05, momentum=0.1, affine=True, track_running_stats=True)\n",
              "    )\n",
              "  )\n",
              "  (layer4): Sequential(\n",
              "    (0): BasicBlock(\n",
              "      (conv1): Conv2d(256, 512, kernel_size=(3, 3), stride=(2, 2), padding=(1, 1), bias=False)\n",
              "      (bn1): BatchNorm2d(512, eps=1e-05, momentum=0.1, affine=True, track_running_stats=True)\n",
              "      (relu): ReLU(inplace=True)\n",
              "      (conv2): Conv2d(512, 512, kernel_size=(3, 3), stride=(1, 1), padding=(1, 1), bias=False)\n",
              "      (bn2): BatchNorm2d(512, eps=1e-05, momentum=0.1, affine=True, track_running_stats=True)\n",
              "      (downsample): Sequential(\n",
              "        (0): Conv2d(256, 512, kernel_size=(1, 1), stride=(2, 2), bias=False)\n",
              "        (1): BatchNorm2d(512, eps=1e-05, momentum=0.1, affine=True, track_running_stats=True)\n",
              "      )\n",
              "    )\n",
              "    (1): BasicBlock(\n",
              "      (conv1): Conv2d(512, 512, kernel_size=(3, 3), stride=(1, 1), padding=(1, 1), bias=False)\n",
              "      (bn1): BatchNorm2d(512, eps=1e-05, momentum=0.1, affine=True, track_running_stats=True)\n",
              "      (relu): ReLU(inplace=True)\n",
              "      (conv2): Conv2d(512, 512, kernel_size=(3, 3), stride=(1, 1), padding=(1, 1), bias=False)\n",
              "      (bn2): BatchNorm2d(512, eps=1e-05, momentum=0.1, affine=True, track_running_stats=True)\n",
              "    )\n",
              "  )\n",
              "  (avgpool): AdaptiveAvgPool2d(output_size=(1, 1))\n",
              "  (fc): Linear(in_features=512, out_features=120, bias=True)\n",
              ")"
            ]
          },
          "metadata": {
            "tags": []
          },
          "execution_count": 51
        }
      ]
    },
    {
      "cell_type": "code",
      "metadata": {
        "id": "3-BTENcxHtjH"
      },
      "source": [
        "# Create an optimizer\n",
        "optimizer = torch.optim.Adam(model.parameters(), lr=learning_rate)"
      ],
      "execution_count": null,
      "outputs": []
    },
    {
      "cell_type": "code",
      "metadata": {
        "id": "smmr5R5tIOq8"
      },
      "source": [
        "# Create a criterion\n",
        "criterion = nn.CrossEntropyLoss()"
      ],
      "execution_count": null,
      "outputs": []
    },
    {
      "cell_type": "markdown",
      "metadata": {
        "id": "ldU5rEKlI0AQ"
      },
      "source": [
        "Remember **this could take a while!**"
      ]
    },
    {
      "cell_type": "code",
      "metadata": {
        "id": "fnPYn7RyIfRa"
      },
      "source": [
        "# Let's train the model\n",
        "trained_model = train(model, small_data_loaders, criterion, optimizer, num_epochs=num_epochs)"
      ],
      "execution_count": null,
      "outputs": []
    },
    {
      "cell_type": "markdown",
      "metadata": {
        "id": "HSxi_x9cMX6n"
      },
      "source": [
        "### Test the trained model"
      ]
    },
    {
      "cell_type": "code",
      "metadata": {
        "id": "5MFGwOS3MdvY"
      },
      "source": [
        "# Now let's test the model\n",
        "model_to_test, acc_info = trained_model\n",
        "test(model_to_test, small_data_loaders, criterion)"
      ],
      "execution_count": null,
      "outputs": []
    },
    {
      "cell_type": "markdown",
      "metadata": {
        "id": "j9o34YiiNXeb"
      },
      "source": [
        "After training the model, we have achieved an accuracy of 43%. This is very low, but at the same time it was expected as we only trained the model on approximately 1/10 of the data."
      ]
    },
    {
      "cell_type": "markdown",
      "metadata": {
        "id": "RSeNyFKhJkLJ"
      },
      "source": [
        "## Save Trained Models"
      ]
    },
    {
      "cell_type": "markdown",
      "metadata": {
        "id": "nOQNi5deMPI_"
      },
      "source": [
        "### Saving Model Example"
      ]
    },
    {
      "cell_type": "code",
      "metadata": {
        "id": "PRbDNz9cITh8"
      },
      "source": [
        "model_to_save, acc_history = trained_model"
      ],
      "execution_count": null,
      "outputs": []
    },
    {
      "cell_type": "code",
      "metadata": {
        "id": "yrKeL3ArIw1o"
      },
      "source": [
        "print(model_to_save)\n",
        "print(acc_history)"
      ],
      "execution_count": null,
      "outputs": []
    },
    {
      "cell_type": "code",
      "metadata": {
        "id": "Nd_Vg6D1Igub"
      },
      "source": [
        "torch.save({\n",
        "    'model_state_dict': model_to_save.state_dict(),\n",
        "    'acc_history': acc_history\n",
        " }, 'drive/MyDrive/Google Colab Data/Dog Vision Pytorch/models/small_data_training_checkpoint.pth')\n"
      ],
      "execution_count": null,
      "outputs": []
    },
    {
      "cell_type": "markdown",
      "metadata": {
        "id": "byKbYTkPMSey"
      },
      "source": [
        "### Saving Model Function"
      ]
    },
    {
      "cell_type": "code",
      "metadata": {
        "id": "vzCDx2MEN2s0"
      },
      "source": [
        "def save_model(model, filename, extra_info_to_save=None):\n",
        "  checkpoint = {\n",
        "      'model_state_dict': model.state_dict(),\n",
        "  }\n",
        "\n",
        "  if extra_info_to_save:\n",
        "    checkpoint.update(extra_info_to_save)\n",
        "  \n",
        "  path = os.path.join(SAVING_PATH, filename)\n",
        "\n",
        "  torch.save(checkpoint, path)\n",
        "\n",
        "  return \"Model and it's data saved correctly\""
      ],
      "execution_count": null,
      "outputs": []
    },
    {
      "cell_type": "code",
      "metadata": {
        "colab": {
          "base_uri": "https://localhost:8080/",
          "height": 35
        },
        "id": "NhqlzNrmO62U",
        "outputId": "3a041653-5e12-416a-fb43-dfc80ea11f6e"
      },
      "source": [
        "# Test the method\n",
        "extra_info = {\n",
        "    'acc_history': acc_history\n",
        "}\n",
        "\n",
        "filename = 'small_data_training_checkpoint_2.pth'\n",
        "\n",
        "save_model(model_to_save, filename, extra_info_to_save=extra_info)"
      ],
      "execution_count": null,
      "outputs": [
        {
          "output_type": "execute_result",
          "data": {
            "application/vnd.google.colaboratory.intrinsic+json": {
              "type": "string"
            },
            "text/plain": [
              "\"Model and it's data saved correctly\""
            ]
          },
          "metadata": {
            "tags": []
          },
          "execution_count": 85
        }
      ]
    },
    {
      "cell_type": "markdown",
      "metadata": {
        "id": "8c3ylx00Jc9R"
      },
      "source": [
        "## Load Trained Models"
      ]
    },
    {
      "cell_type": "markdown",
      "metadata": {
        "id": "wJUhQAAuQ5eM"
      },
      "source": [
        "### Loading model Example"
      ]
    },
    {
      "cell_type": "code",
      "metadata": {
        "id": "MnQqFljkJoWM"
      },
      "source": [
        "# Create a resnet model\n",
        "loaded_model = create_resnet18_model(OUTPUT_SHAPE, pretrained=True)"
      ],
      "execution_count": null,
      "outputs": []
    },
    {
      "cell_type": "code",
      "metadata": {
        "id": "DJYxwDrJKB88"
      },
      "source": [
        "# Load Checkpoint\n",
        "checkpoint = torch.load('drive/MyDrive/Google Colab Data/Dog Vision Pytorch/models/small_data_training_checkpoint.pth')"
      ],
      "execution_count": null,
      "outputs": []
    },
    {
      "cell_type": "code",
      "metadata": {
        "colab": {
          "base_uri": "https://localhost:8080/"
        },
        "id": "mAEh96m_KPeK",
        "outputId": "b2a27eaa-e9c4-4154-f1a8-2d4e57d62d1b"
      },
      "source": [
        "loaded_model.load_state_dict(checkpoint['model_state_dict'])"
      ],
      "execution_count": null,
      "outputs": [
        {
          "output_type": "execute_result",
          "data": {
            "text/plain": [
              "<All keys matched successfully>"
            ]
          },
          "metadata": {
            "tags": []
          },
          "execution_count": 70
        }
      ]
    },
    {
      "cell_type": "code",
      "metadata": {
        "id": "-19Sj6q0KoJM"
      },
      "source": [
        "loaded_model.eval()"
      ],
      "execution_count": null,
      "outputs": []
    },
    {
      "cell_type": "markdown",
      "metadata": {
        "id": "faaq_WPQKswg"
      },
      "source": [
        "### Loading Model Function"
      ]
    },
    {
      "cell_type": "code",
      "metadata": {
        "id": "MQWaLnt3Q_fB"
      },
      "source": [
        "def load_resnet18_model(path):\n",
        "  \"\"\"\n",
        "  Loads a trained resnet18 model\n",
        "  \"\"\"\n",
        "  # Create a model\n",
        "  model = create_resnet18_model(OUTPUT_SHAPE, pretrained=True)\n",
        "\n",
        "  # Load checkpoint\n",
        "  checkpoint = torch.load(path)\n",
        "\n",
        "  # Load state dict in the model, from checkpoint\n",
        "  model.load_state_dict(checkpoint['model_state_dict'])\n",
        "\n",
        "  # Put the model in eval mode\n",
        "  model.eval()\n",
        "\n",
        "  return model"
      ],
      "execution_count": null,
      "outputs": []
    },
    {
      "cell_type": "code",
      "metadata": {
        "id": "d5cvooTLRzhE"
      },
      "source": [
        "# Test the function\n",
        "loaded_model_example = load_resnet18_model('drive/MyDrive/Google Colab Data/Dog Vision Pytorch/models/small_data_training_checkpoint_2.pth')"
      ],
      "execution_count": null,
      "outputs": []
    },
    {
      "cell_type": "code",
      "metadata": {
        "id": "dRrDIRqqR_L8"
      },
      "source": [
        "loaded_model_example"
      ],
      "execution_count": null,
      "outputs": []
    },
    {
      "cell_type": "markdown",
      "metadata": {
        "id": "vX2Dmo-u8aL4"
      },
      "source": [
        "## Training the model on the full dataset\n",
        "\n",
        "Now that we have tested that everything is working and that our functions to train work correctly, we can train a model on the full dataset.\n",
        "\n",
        "For this we are going to use or function `train()` and our `KaggleDataset`"
      ]
    },
    {
      "cell_type": "markdown",
      "metadata": {
        "id": "X3eGw7UtXWCW"
      },
      "source": [
        "### Create a resnet18 model"
      ]
    },
    {
      "cell_type": "code",
      "metadata": {
        "id": "f9XpKWIc9TaA"
      },
      "source": [
        "# Create a model\n",
        "base_model = create_resnet18_model(OUTPUT_SHAPE, pretrained=True)\n",
        "\n",
        "# Move it to cuda\n",
        "base_model.to(device)"
      ],
      "execution_count": null,
      "outputs": []
    },
    {
      "cell_type": "markdown",
      "metadata": {
        "id": "264NVp6bXae-"
      },
      "source": [
        "### Create an Adam Optimizer"
      ]
    },
    {
      "cell_type": "code",
      "metadata": {
        "id": "vHap_kRF9h92"
      },
      "source": [
        "# Create an optimizer\n",
        "optimizer = torch.optim.Adam(base_model.parameters(), lr=learning_rate)"
      ],
      "execution_count": null,
      "outputs": []
    },
    {
      "cell_type": "markdown",
      "metadata": {
        "id": "6DoQDNynXeps"
      },
      "source": [
        "### Create a Criterion"
      ]
    },
    {
      "cell_type": "code",
      "metadata": {
        "id": "h3-zzdgG9vUC"
      },
      "source": [
        "# Create a criterion\n",
        "criterion = nn.CrossEntropyLoss()"
      ],
      "execution_count": null,
      "outputs": []
    },
    {
      "cell_type": "markdown",
      "metadata": {
        "id": "L2149RdgXpMm"
      },
      "source": [
        "### Check the dataloaders"
      ]
    },
    {
      "cell_type": "code",
      "metadata": {
        "id": "vymMFI9d-EvM"
      },
      "source": [
        "# Check our data loaders are still active\n",
        "image, label = next(iter(kaggle_data_loaders['train']))"
      ],
      "execution_count": null,
      "outputs": []
    },
    {
      "cell_type": "code",
      "metadata": {
        "colab": {
          "base_uri": "https://localhost:8080/"
        },
        "id": "9A6yalRQEHxy",
        "outputId": "e78d1371-b3a6-41af-dfbc-75f99b608039"
      },
      "source": [
        "label[0]"
      ],
      "execution_count": null,
      "outputs": [
        {
          "output_type": "execute_result",
          "data": {
            "text/plain": [
              "tensor(19)"
            ]
          },
          "metadata": {
            "tags": []
          },
          "execution_count": 121
        }
      ]
    },
    {
      "cell_type": "markdown",
      "metadata": {
        "id": "SWiWTvrqXtEI"
      },
      "source": [
        "### Train the model"
      ]
    },
    {
      "cell_type": "code",
      "metadata": {
        "colab": {
          "base_uri": "https://localhost:8080/"
        },
        "id": "dWgcDtcL8sT4",
        "outputId": "1cdbf6ca-939c-49de-f6ad-51b92a0c04e7"
      },
      "source": [
        "# Train the model!!\n",
        "complete_training_outcome = train(base_model, kaggle_data_loaders, criterion, optimizer, num_epochs=num_epochs)"
      ],
      "execution_count": null,
      "outputs": [
        {
          "output_type": "stream",
          "text": [
            "Epoch 0/24\n",
            "----------\n",
            "train Loss: 2.6484 Acc: 0.4385\n",
            "val Loss: 1.3986 Acc: 0.6826\n",
            "\n",
            "Epoch 1/24\n",
            "----------\n",
            "train Loss: 1.1419 Acc: 0.7324\n",
            "val Loss: 1.0180 Acc: 0.7218\n",
            "\n",
            "Epoch 2/24\n",
            "----------\n",
            "train Loss: 0.8367 Acc: 0.7926\n",
            "val Loss: 0.9274 Acc: 0.7315\n",
            "\n",
            "Epoch 3/24\n",
            "----------\n",
            "train Loss: 0.6946 Acc: 0.8217\n",
            "val Loss: 0.8710 Acc: 0.7355\n",
            "\n",
            "Epoch 4/24\n",
            "----------\n",
            "train Loss: 0.5974 Acc: 0.8463\n",
            "val Loss: 0.8340 Acc: 0.7491\n",
            "\n",
            "Epoch 5/24\n",
            "----------\n",
            "train Loss: 0.5134 Acc: 0.8674\n",
            "val Loss: 0.8223 Acc: 0.7487\n",
            "\n",
            "Epoch 6/24\n",
            "----------\n",
            "train Loss: 0.4656 Acc: 0.8821\n",
            "val Loss: 0.8035 Acc: 0.7443\n",
            "\n",
            "Epoch 7/24\n",
            "----------\n",
            "train Loss: 0.4042 Acc: 0.8978\n",
            "val Loss: 0.8157 Acc: 0.7487\n",
            "\n",
            "Epoch 8/24\n",
            "----------\n",
            "train Loss: 0.3794 Acc: 0.9044\n",
            "val Loss: 0.8277 Acc: 0.7487\n",
            "\n",
            "Epoch 9/24\n",
            "----------\n",
            "train Loss: 0.3371 Acc: 0.9176\n",
            "val Loss: 0.8205 Acc: 0.7433\n",
            "\n",
            "Epoch 10/24\n",
            "----------\n",
            "train Loss: 0.3123 Acc: 0.9234\n",
            "val Loss: 0.8464 Acc: 0.7443\n",
            "\n",
            "Epoch 11/24\n",
            "----------\n",
            "train Loss: 0.2922 Acc: 0.9286\n",
            "val Loss: 0.8262 Acc: 0.7457\n",
            "\n",
            "Epoch 12/24\n",
            "----------\n",
            "train Loss: 0.2633 Acc: 0.9360\n",
            "val Loss: 0.8435 Acc: 0.7379\n",
            "\n",
            "Epoch 13/24\n",
            "----------\n",
            "train Loss: 0.2448 Acc: 0.9398\n",
            "val Loss: 0.8523 Acc: 0.7423\n",
            "\n",
            "Epoch 14/24\n",
            "----------\n",
            "train Loss: 0.2352 Acc: 0.9424\n",
            "val Loss: 0.8276 Acc: 0.7511\n",
            "\n",
            "Epoch 15/24\n",
            "----------\n",
            "train Loss: 0.2189 Acc: 0.9477\n",
            "val Loss: 0.8251 Acc: 0.7477\n",
            "\n",
            "Epoch 16/24\n",
            "----------\n",
            "train Loss: 0.2015 Acc: 0.9519\n",
            "val Loss: 0.8661 Acc: 0.7447\n",
            "\n",
            "Epoch 17/24\n",
            "----------\n",
            "train Loss: 0.1885 Acc: 0.9576\n",
            "val Loss: 0.8654 Acc: 0.7428\n",
            "\n",
            "Epoch 18/24\n",
            "----------\n",
            "train Loss: 0.1802 Acc: 0.9592\n",
            "val Loss: 0.8773 Acc: 0.7472\n",
            "\n",
            "Epoch 19/24\n",
            "----------\n",
            "train Loss: 0.1682 Acc: 0.9611\n",
            "val Loss: 0.8735 Acc: 0.7462\n",
            "\n",
            "Epoch 20/24\n",
            "----------\n",
            "train Loss: 0.1558 Acc: 0.9627\n",
            "val Loss: 0.9063 Acc: 0.7311\n",
            "\n",
            "Epoch 21/24\n",
            "----------\n",
            "train Loss: 0.1598 Acc: 0.9655\n",
            "val Loss: 0.9414 Acc: 0.7355\n",
            "\n",
            "Epoch 22/24\n",
            "----------\n",
            "train Loss: 0.1494 Acc: 0.9672\n",
            "val Loss: 0.9274 Acc: 0.7418\n",
            "\n",
            "Epoch 23/24\n",
            "----------\n",
            "train Loss: 0.1363 Acc: 0.9700\n",
            "val Loss: 0.9075 Acc: 0.7516\n",
            "\n",
            "Epoch 24/24\n",
            "----------\n",
            "train Loss: 0.1296 Acc: 0.9730\n",
            "val Loss: 0.9420 Acc: 0.7399\n",
            "\n",
            "Training complete in 101m 42s\n",
            "Best val Acc: 0.751589\n"
          ],
          "name": "stdout"
        }
      ]
    },
    {
      "cell_type": "markdown",
      "metadata": {
        "id": "_ZiV3TnH_4Zn"
      },
      "source": [
        "### Save the trained model"
      ]
    },
    {
      "cell_type": "code",
      "metadata": {
        "id": "WTUEcTw4-caU"
      },
      "source": [
        "# Definde the filename\n",
        "fully_trained_model_filename = 'full-image-set-resnet18-Adam.pth'"
      ],
      "execution_count": null,
      "outputs": []
    },
    {
      "cell_type": "code",
      "metadata": {
        "id": "lOovBnPOAEZy"
      },
      "source": [
        "# Get the model and the accuracy history\n",
        "fully_trained_model, acc_history = complete_training_outcome"
      ],
      "execution_count": null,
      "outputs": []
    },
    {
      "cell_type": "code",
      "metadata": {
        "id": "n9OG6C1vAYkg"
      },
      "source": [
        "# Insert the accuracy history in an object\n",
        "extra_info = {\n",
        "    'acc_history': acc_history\n",
        "}"
      ],
      "execution_count": null,
      "outputs": []
    },
    {
      "cell_type": "code",
      "metadata": {
        "colab": {
          "base_uri": "https://localhost:8080/",
          "height": 35
        },
        "id": "IIyTUBQqAzbV",
        "outputId": "ad5360d2-c739-4baf-f2a0-82436736c1cc"
      },
      "source": [
        "# Save the model\n",
        "save_model(fully_trained_model, fully_trained_model_filename, extra_info_to_save=extra_info)"
      ],
      "execution_count": null,
      "outputs": [
        {
          "output_type": "execute_result",
          "data": {
            "application/vnd.google.colaboratory.intrinsic+json": {
              "type": "string"
            },
            "text/plain": [
              "\"Model and it's data saved correctly\""
            ]
          },
          "metadata": {
            "tags": []
          },
          "execution_count": 126
        }
      ]
    },
    {
      "cell_type": "markdown",
      "metadata": {
        "id": "SbuE-N9oSA1x"
      },
      "source": [
        "## Get Prediction Probabilities\n",
        "\n",
        "Now that we are able to train and test our models, let's create a way of visualizing what the predicition probailities are for each dog breed."
      ]
    },
    {
      "cell_type": "markdown",
      "metadata": {
        "id": "xDT8VerNYlF2"
      },
      "source": [
        "### Experimentation\n",
        "\n",
        "This part is pure experimentation, in order to later on create a function to make predictions and get probabilites."
      ]
    },
    {
      "cell_type": "code",
      "metadata": {
        "id": "ZOjEJ03jJMkK"
      },
      "source": [
        "# Load the model\n",
        "loaded_model = load_resnet18_model('drive/MyDrive/Google Colab Data/Dog Vision Pytorch/models/full-image-set-resnet18-Adam.pth')"
      ],
      "execution_count": null,
      "outputs": []
    },
    {
      "cell_type": "code",
      "metadata": {
        "id": "GiYZZ6MKJ8-Z"
      },
      "source": [
        "data, target = next(iter(kaggle_data_loaders['train']))"
      ],
      "execution_count": null,
      "outputs": []
    },
    {
      "cell_type": "code",
      "metadata": {
        "colab": {
          "base_uri": "https://localhost:8080/"
        },
        "id": "4cMX5J-V1zZZ",
        "outputId": "781dee35-bc39-4dbe-b98b-0e055c099b7c"
      },
      "source": [
        "len(data)"
      ],
      "execution_count": null,
      "outputs": [
        {
          "output_type": "execute_result",
          "data": {
            "text/plain": [
              "32"
            ]
          },
          "metadata": {
            "tags": []
          },
          "execution_count": 107
        }
      ]
    },
    {
      "cell_type": "code",
      "metadata": {
        "id": "RQMJfudU21Bl"
      },
      "source": [
        "output = loaded_model(data)"
      ],
      "execution_count": null,
      "outputs": []
    },
    {
      "cell_type": "code",
      "metadata": {
        "colab": {
          "base_uri": "https://localhost:8080/"
        },
        "id": "JU2Td2fl5jPo",
        "outputId": "5f4392dd-25ac-425d-caa6-094727b0f73d"
      },
      "source": [
        "# output from crossentropy score\n",
        "output[0]"
      ],
      "execution_count": null,
      "outputs": [
        {
          "output_type": "execute_result",
          "data": {
            "text/plain": [
              "tensor([-22.0679, -19.2470, -23.5163, -11.3924, -12.9433,  -5.5234, -19.9652,\n",
              "        -10.6573, -13.1252, -11.9021, -21.7089, -17.1716,  -0.4571, -20.6222,\n",
              "        -10.7436,  -9.4436, -10.2243, -15.1115, -16.0240, -16.0513, -20.7683,\n",
              "        -17.3220, -16.2210, -22.9213, -15.7518, -13.7633, -23.0146, -15.6172,\n",
              "        -11.6090, -11.9410, -21.1222, -17.8094, -18.9998, -13.6170, -10.0857,\n",
              "        -22.0746, -23.0958, -13.2939,  -7.2900, -18.8254, -17.4522, -19.6101,\n",
              "         -7.2065, -14.8833,  -5.5231, -19.6319, -10.7132, -13.8237, -14.4351,\n",
              "        -15.8287, -12.6056,  -8.2592, -16.3895,  -3.8502, -18.0382, -17.6260,\n",
              "        -19.8188, -16.2757, -18.9079, -13.2705, -11.7195, -25.1753, -21.6859,\n",
              "         -7.8087, -19.0902, -23.9254, -17.0784,  -2.9774, -15.7022, -18.3808,\n",
              "        -21.6359, -15.3849, -12.6954, -18.7515, -22.4136, -11.2591, -17.6832,\n",
              "        -18.1855, -15.3581, -22.8052, -12.3247, -19.7023, -21.2996, -18.1518,\n",
              "        -22.3381, -21.2182, -17.4384, -23.3379, -12.2380,  -8.7748, -13.6767,\n",
              "         -4.0896, -18.3775,  -9.2704, -20.3713, -12.8632, -21.0601, -15.5872,\n",
              "        -23.9351, -21.0713, -25.2486, -13.5845, -16.2871, -18.0655,  -9.8612,\n",
              "        -21.8595, -18.1702, -20.4960, -11.6565, -20.5157, -20.0800, -13.5058,\n",
              "        -11.2216, -11.7759, -12.5455, -19.2188, -20.4951, -13.6472, -19.3680,\n",
              "        -20.6897], grad_fn=<SelectBackward>)"
            ]
          },
          "metadata": {
            "tags": []
          },
          "execution_count": 109
        }
      ]
    },
    {
      "cell_type": "code",
      "metadata": {
        "colab": {
          "base_uri": "https://localhost:8080/"
        },
        "id": "HDqVntAf7wMw",
        "outputId": "42133914-2477-4fe0-d0f9-e353d4097d41"
      },
      "source": [
        "len(output[0])"
      ],
      "execution_count": null,
      "outputs": [
        {
          "output_type": "execute_result",
          "data": {
            "text/plain": [
              "120"
            ]
          },
          "metadata": {
            "tags": []
          },
          "execution_count": 65
        }
      ]
    },
    {
      "cell_type": "code",
      "metadata": {
        "colab": {
          "base_uri": "https://localhost:8080/"
        },
        "id": "AFm2ElCn77-4",
        "outputId": "64e29c31-93c2-4d99-8821-3d7897a5ad95"
      },
      "source": [
        "len(unique_breeds)"
      ],
      "execution_count": null,
      "outputs": [
        {
          "output_type": "execute_result",
          "data": {
            "text/plain": [
              "120"
            ]
          },
          "metadata": {
            "tags": []
          },
          "execution_count": 66
        }
      ]
    },
    {
      "cell_type": "code",
      "metadata": {
        "colab": {
          "base_uri": "https://localhost:8080/"
        },
        "id": "6j4UFVdd5s3P",
        "outputId": "f5744932-a467-4f61-a033-711cc88355c3"
      },
      "source": [
        "sm = torch.nn.Softmax()\n",
        "probabilities = sm(output)\n",
        "# Converted to probabilities\n",
        "print(sum(probabilities[0].detach().numpy()))\n",
        "print(sum(probabilities[0]))"
      ],
      "execution_count": null,
      "outputs": [
        {
          "output_type": "stream",
          "text": [
            "1.0000000096492605\n",
            "tensor(1.0000, grad_fn=<AddBackward0>)\n"
          ],
          "name": "stdout"
        },
        {
          "output_type": "stream",
          "text": [
            "/usr/local/lib/python3.6/dist-packages/ipykernel_launcher.py:2: UserWarning: Implicit dimension choice for softmax has been deprecated. Change the call to include dim=X as an argument.\n",
            "  \n"
          ],
          "name": "stderr"
        }
      ]
    },
    {
      "cell_type": "code",
      "metadata": {
        "colab": {
          "base_uri": "https://localhost:8080/"
        },
        "id": "58yCAORW6Vfy",
        "outputId": "f664c3ec-e420-4a11-b290-35c3b1332e59"
      },
      "source": [
        "# Check probabilites add up to 1\n",
        "sum(probabilities[0])"
      ],
      "execution_count": null,
      "outputs": [
        {
          "output_type": "execute_result",
          "data": {
            "text/plain": [
              "tensor(1.0000, grad_fn=<AddBackward0>)"
            ]
          },
          "metadata": {
            "tags": []
          },
          "execution_count": 69
        }
      ]
    },
    {
      "cell_type": "code",
      "metadata": {
        "colab": {
          "base_uri": "https://localhost:8080/"
        },
        "id": "s614O9Rw6hcQ",
        "outputId": "93a2552a-3c88-49cf-bed9-257570a0aa9e"
      },
      "source": [
        "probabilities[0].argmax()"
      ],
      "execution_count": null,
      "outputs": [
        {
          "output_type": "execute_result",
          "data": {
            "text/plain": [
              "tensor(106)"
            ]
          },
          "metadata": {
            "tags": []
          },
          "execution_count": 71
        }
      ]
    },
    {
      "cell_type": "markdown",
      "metadata": {
        "id": "FGWpCjsOB-n6"
      },
      "source": [
        "The model's prediction was:"
      ]
    },
    {
      "cell_type": "code",
      "metadata": {
        "colab": {
          "base_uri": "https://localhost:8080/",
          "height": 35
        },
        "id": "rPBnpX9b8DfA",
        "outputId": "67d525cd-7bc9-43f8-d14e-5ad1acfe8d35"
      },
      "source": [
        "unique_breeds[64]"
      ],
      "execution_count": null,
      "outputs": [
        {
          "output_type": "execute_result",
          "data": {
            "application/vnd.google.colaboratory.intrinsic+json": {
              "type": "string"
            },
            "text/plain": [
              "'kerry_blue_terrier'"
            ]
          },
          "metadata": {
            "tags": []
          },
          "execution_count": 77
        }
      ]
    },
    {
      "cell_type": "markdown",
      "metadata": {
        "id": "XovQPXB8CCZD"
      },
      "source": [
        "And out input image was:"
      ]
    },
    {
      "cell_type": "code",
      "metadata": {
        "colab": {
          "base_uri": "https://localhost:8080/"
        },
        "id": "OUUwoPUC8F_I",
        "outputId": "e0f8c616-03d8-4a7c-e83a-8a926a4e321e"
      },
      "source": [
        "data.shape"
      ],
      "execution_count": null,
      "outputs": [
        {
          "output_type": "execute_result",
          "data": {
            "text/plain": [
              "torch.Size([32, 3, 224, 224])"
            ]
          },
          "metadata": {
            "tags": []
          },
          "execution_count": 82
        }
      ]
    },
    {
      "cell_type": "code",
      "metadata": {
        "id": "nEBSu2kQ9IG4"
      },
      "source": [
        "image = data[0]"
      ],
      "execution_count": null,
      "outputs": []
    },
    {
      "cell_type": "code",
      "metadata": {
        "id": "puFG9rvh9xc_"
      },
      "source": [
        "image = image.permute(1, 2, 0)"
      ],
      "execution_count": null,
      "outputs": []
    },
    {
      "cell_type": "code",
      "metadata": {
        "colab": {
          "base_uri": "https://localhost:8080/",
          "height": 323
        },
        "id": "4wtlg5Ue9rI_",
        "outputId": "325463e3-c03e-4745-9d6c-80581e6b7003"
      },
      "source": [
        "plt.imshow(image)"
      ],
      "execution_count": null,
      "outputs": [
        {
          "output_type": "stream",
          "text": [
            "Clipping input data to the valid range for imshow with RGB data ([0..1] for floats or [0..255] for integers).\n"
          ],
          "name": "stderr"
        },
        {
          "output_type": "execute_result",
          "data": {
            "text/plain": [
              "<matplotlib.image.AxesImage at 0x7fe4bddfcc18>"
            ]
          },
          "metadata": {
            "tags": []
          },
          "execution_count": 91
        },
        {
          "output_type": "display_data",
          "data": {
            "image/png": "[encoded data removed]",
            "text/plain": [
              "<Figure size 432x288 with 1 Axes>"
            ]
          },
          "metadata": {
            "tags": []
          }
        }
      ]
    },
    {
      "cell_type": "code",
      "metadata": {
        "colab": {
          "base_uri": "https://localhost:8080/"
        },
        "id": "g2DBClif9u3L",
        "outputId": "865ea0a2-b0c7-4502-e057-7c655517d507"
      },
      "source": [
        "target[0].argmax()"
      ],
      "execution_count": null,
      "outputs": [
        {
          "output_type": "execute_result",
          "data": {
            "text/plain": [
              "tensor(58)"
            ]
          },
          "metadata": {
            "tags": []
          },
          "execution_count": 93
        }
      ]
    },
    {
      "cell_type": "code",
      "metadata": {
        "colab": {
          "base_uri": "https://localhost:8080/",
          "height": 35
        },
        "id": "ChFCXZVI-V-g",
        "outputId": "2a0bec88-be3d-4151-9e38-20eb01e367b4"
      },
      "source": [
        "unique_breeds[58]"
      ],
      "execution_count": null,
      "outputs": [
        {
          "output_type": "execute_result",
          "data": {
            "application/vnd.google.colaboratory.intrinsic+json": {
              "type": "string"
            },
            "text/plain": [
              "'irish_water_spaniel'"
            ]
          },
          "metadata": {
            "tags": []
          },
          "execution_count": 94
        }
      ]
    },
    {
      "cell_type": "markdown",
      "metadata": {
        "id": "WGHgnBrHBW8a"
      },
      "source": [
        "**Result** of the test:\n",
        "* The breed the model predicted is:\n",
        "  * kerry_blue_terrier\n",
        "* But the target was: \n",
        "  * irish_water_spaniel\n",
        "\n",
        "And an irish_water_spaniel looks something like:"
      ]
    },
    {
      "cell_type": "code",
      "metadata": {
        "colab": {
          "base_uri": "https://localhost:8080/"
        },
        "id": "C8M-gPjK_kwG",
        "outputId": "b9e762ed-2b88-403c-8d3c-cb18c59cee6a"
      },
      "source": [
        "print(labels_csv[labels_csv['breed'] == 'irish_water_spaniel'])"
      ],
      "execution_count": null,
      "outputs": [
        {
          "output_type": "stream",
          "text": [
            "                                     id                breed\n",
            "27     00b7d114bc5166a629a3cc03d9329120  irish_water_spaniel\n",
            "41     011bd7fd7c036dbb243d0e37329c77b7  irish_water_spaniel\n",
            "51     0159b6457aac89f43d1c1931cdf7500b  irish_water_spaniel\n",
            "53     015b4aa50dd9b4a0d26dc0c38f41b489  irish_water_spaniel\n",
            "319    07b5288a0bb8b9cf1a42d281a9451e51  irish_water_spaniel\n",
            "...                                 ...                  ...\n",
            "9439   ecccfab92b35ee51d1896eb35f5379a7  irish_water_spaniel\n",
            "9511   ee64bb93cf0e12fc0549b89083f9347b  irish_water_spaniel\n",
            "9547   ef608e79d3e91f00896e2584c66a1709  irish_water_spaniel\n",
            "9827   f750daa88a8129fd8af9e6b686698147  irish_water_spaniel\n",
            "10140  fdcedfa9f9ae621a4889e844b9e2940d  irish_water_spaniel\n",
            "\n",
            "[78 rows x 2 columns]\n"
          ],
          "name": "stdout"
        }
      ]
    },
    {
      "cell_type": "code",
      "metadata": {
        "colab": {
          "base_uri": "https://localhost:8080/",
          "height": 255
        },
        "id": "VGGnK2fk_yAK",
        "outputId": "f70285f7-16e8-4469-d9eb-d11a0d74ff21"
      },
      "source": [
        "Image1(filenames[9439])"
      ],
      "execution_count": null,
      "outputs": [
        {
          "output_type": "execute_result",
          "data": {
            "image/jpeg": "[encoded data removed]",
            "text/plain": [
              "<IPython.core.display.Image object>"
            ]
          },
          "metadata": {
            "tags": []
          },
          "execution_count": 106
        }
      ]
    },
    {
      "cell_type": "markdown",
      "metadata": {
        "id": "25l17PgmBHZz"
      },
      "source": [
        "So, although we can improve a lot our model by training it with the full dataset, this time it wasn't that bad 🤷🏻‍♂️ ."
      ]
    },
    {
      "cell_type": "markdown",
      "metadata": {
        "id": "4LA0jnrgg0bd"
      },
      "source": [
        "### Predictions Function"
      ]
    },
    {
      "cell_type": "code",
      "metadata": {
        "id": "lp9bVlGFg4nu"
      },
      "source": [
        "def predict(model, dataloader):\n",
        "  \"\"\"\n",
        "  Returns a list with the prediction probabilities for each breed,\n",
        "  corresponding to each image\n",
        "  \"\"\"\n",
        "\n",
        "  predictions_list = []\n",
        "  sm = torch.nn.Softmax()\n",
        "\n",
        "  for i, data in enumerate(dataloader):\n",
        "    print('Batch: {}/{}'.format(i, (len(dataloader) - 1)))\n",
        "    data = data.to(device)\n",
        "    # make predictions of each data batch\n",
        "    outputs = model(data)\n",
        "    # turn the outputs into probabilites\n",
        "    probabilities = sm(outputs)\n",
        "    for i in range(len(probabilities)):\n",
        "        predictions_list.append(probabilities[i].cpu().detach().numpy())\n",
        "  \n",
        "  return predictions_list"
      ],
      "execution_count": null,
      "outputs": []
    },
    {
      "cell_type": "markdown",
      "metadata": {
        "id": "X7IK5cQgTzMk"
      },
      "source": [
        "## Making predictions"
      ]
    },
    {
      "cell_type": "markdown",
      "metadata": {
        "id": "mm2GoujYY1cp"
      },
      "source": [
        "### Prepare the data"
      ]
    },
    {
      "cell_type": "code",
      "metadata": {
        "colab": {
          "base_uri": "https://localhost:8080/"
        },
        "id": "kDp9tFOkd5Xg",
        "outputId": "76013807-2951-4cbb-9de5-3741e448b3fd"
      },
      "source": [
        "# Get all the filenames\n",
        "test_filenames = [TEST_IMG_PATH + fname for fname in os.listdir(TEST_IMG_PATH)]\n",
        "# See first 10\n",
        "test_filenames[:10]"
      ],
      "execution_count": null,
      "outputs": [
        {
          "output_type": "execute_result",
          "data": {
            "text/plain": [
              "['drive/MyDrive/Google Colab Data/Dog Vision/test/ea1039f3869357b53abf4ace351218a6.jpg',\n",
              " 'drive/MyDrive/Google Colab Data/Dog Vision/test/ed61910363f37890c8cc47b25836f82e.jpg',\n",
              " 'drive/MyDrive/Google Colab Data/Dog Vision/test/eb06356375888d41903fff14ef7c4104.jpg',\n",
              " 'drive/MyDrive/Google Colab Data/Dog Vision/test/f2c4131850c17dee485d48c2bb8a358e.jpg',\n",
              " 'drive/MyDrive/Google Colab Data/Dog Vision/test/f15527e7a063275291e469b4e5db751c.jpg',\n",
              " 'drive/MyDrive/Google Colab Data/Dog Vision/test/f16cb4716034cecf3edd7260109fdf17.jpg',\n",
              " 'drive/MyDrive/Google Colab Data/Dog Vision/test/ec6b4aee97cf7eeb6cb26540af933db2.jpg',\n",
              " 'drive/MyDrive/Google Colab Data/Dog Vision/test/f1f339f43e83cfb8e4bf76ff5671489c.jpg',\n",
              " 'drive/MyDrive/Google Colab Data/Dog Vision/test/ed3d8126013933f566dc4113efe7c0bc.jpg',\n",
              " 'drive/MyDrive/Google Colab Data/Dog Vision/test/f1eadf24d904d3c1e26d8081555901be.jpg']"
            ]
          },
          "metadata": {
            "tags": []
          },
          "execution_count": 55
        }
      ]
    },
    {
      "cell_type": "code",
      "metadata": {
        "id": "qq9OC_RFY7wQ"
      },
      "source": [
        "# Create the dataset\n",
        "full_test_dataset = UnlabledDataset(filenames=test_filenames, transform=transform)"
      ],
      "execution_count": null,
      "outputs": []
    },
    {
      "cell_type": "code",
      "metadata": {
        "id": "AZx2304remF8"
      },
      "source": [
        "# Create the dataloaders\n",
        "test_dataloader = DataLoader(full_test_dataset, batch_size=batch_size, shuffle=False)"
      ],
      "execution_count": null,
      "outputs": []
    },
    {
      "cell_type": "markdown",
      "metadata": {
        "id": "Q1d8X71vfM7i"
      },
      "source": [
        "### Load the model"
      ]
    },
    {
      "cell_type": "code",
      "metadata": {
        "id": "VLqKFu9HgBse"
      },
      "source": [
        "fully_trained_model = load_resnet18_model('/content/drive/MyDrive/Google Colab Data/Dog Vision Pytorch/models/full-image-set-resnet18-Adam.pth')\n",
        "fully_trained_model.to(device)"
      ],
      "execution_count": null,
      "outputs": []
    },
    {
      "cell_type": "markdown",
      "metadata": {
        "id": "PNmGCYw2q6gj"
      },
      "source": [
        "### Test predictions\n",
        "\n",
        "To check our `predict()` method is working fine, let's run it with a small part of the test dataset."
      ]
    },
    {
      "cell_type": "code",
      "metadata": {
        "id": "WaaHlnnQscAy"
      },
      "source": [
        "experimental_test_dest_size = int(len(full_test_dataset) * 0.05)\n",
        "other_size = int(len(full_test_dataset) - experimental_test_dest_size)"
      ],
      "execution_count": null,
      "outputs": []
    },
    {
      "cell_type": "code",
      "metadata": {
        "colab": {
          "base_uri": "https://localhost:8080/"
        },
        "id": "GSNnGLdtswoV",
        "outputId": "9fb845d3-974c-4df6-aad5-2c813546e6d5"
      },
      "source": [
        "experimental_test_dest_size"
      ],
      "execution_count": null,
      "outputs": [
        {
          "output_type": "execute_result",
          "data": {
            "text/plain": [
              "517"
            ]
          },
          "metadata": {
            "tags": []
          },
          "execution_count": 60
        }
      ]
    },
    {
      "cell_type": "code",
      "metadata": {
        "id": "bLNLvp_-q-Yv"
      },
      "source": [
        "experimental_test_dest, _ = torch.utils.data.random_split(full_test_dataset, (experimental_test_dest_size, other_size))"
      ],
      "execution_count": null,
      "outputs": []
    },
    {
      "cell_type": "code",
      "metadata": {
        "colab": {
          "base_uri": "https://localhost:8080/"
        },
        "id": "NA9ATstCs4vP",
        "outputId": "e7bd9dc4-ae04-47d7-c755-401b33cd656a"
      },
      "source": [
        "len(experimental_test_dest)"
      ],
      "execution_count": null,
      "outputs": [
        {
          "output_type": "execute_result",
          "data": {
            "text/plain": [
              "517"
            ]
          },
          "metadata": {
            "tags": []
          },
          "execution_count": 62
        }
      ]
    },
    {
      "cell_type": "code",
      "metadata": {
        "id": "03bjkTgqs8Mc"
      },
      "source": [
        "experimental_test_dloader = DataLoader(experimental_test_dest, batch_size=batch_size)"
      ],
      "execution_count": null,
      "outputs": []
    },
    {
      "cell_type": "code",
      "metadata": {
        "colab": {
          "base_uri": "https://localhost:8080/"
        },
        "id": "j3Dd-_ePtHTf",
        "outputId": "b759dc11-cd05-4a88-f9a6-bc9ccfa619f0"
      },
      "source": [
        "experimental_test_predictions = predict(fully_trained_model, experimental_test_dloader)"
      ],
      "execution_count": null,
      "outputs": [
        {
          "output_type": "stream",
          "text": [
            "Batch: 0/16\n"
          ],
          "name": "stdout"
        },
        {
          "output_type": "stream",
          "text": [
            "/usr/local/lib/python3.6/dist-packages/ipykernel_launcher.py:16: UserWarning: Implicit dimension choice for softmax has been deprecated. Change the call to include dim=X as an argument.\n",
            "  app.launch_new_instance()\n"
          ],
          "name": "stderr"
        },
        {
          "output_type": "stream",
          "text": [
            "Batch: 1/16\n",
            "Batch: 2/16\n",
            "Batch: 3/16\n",
            "Batch: 4/16\n",
            "Batch: 5/16\n",
            "Batch: 6/16\n",
            "Batch: 7/16\n",
            "Batch: 8/16\n",
            "Batch: 9/16\n",
            "Batch: 10/16\n",
            "Batch: 11/16\n",
            "Batch: 12/16\n",
            "Batch: 13/16\n",
            "Batch: 14/16\n",
            "Batch: 15/16\n",
            "Batch: 16/16\n"
          ],
          "name": "stdout"
        }
      ]
    },
    {
      "cell_type": "code",
      "metadata": {
        "id": "lMVSeTsf4S-K"
      },
      "source": [
        "# Sum of probabilities adds up to 1\n",
        "sum(experimental_test_predictions[0])"
      ],
      "execution_count": null,
      "outputs": []
    },
    {
      "cell_type": "markdown",
      "metadata": {
        "id": "fGNNl8dOgtum"
      },
      "source": [
        "### Predict"
      ]
    },
    {
      "cell_type": "code",
      "metadata": {
        "colab": {
          "background_save": true,
          "base_uri": "https://localhost:8080/"
        },
        "id": "zprhnwDKgxEZ",
        "outputId": "6933c5f3-c3f6-4e72-8bf8-8c07c37f3078"
      },
      "source": [
        "test_predictions = predict(fully_trained_model, test_dataloader)"
      ],
      "execution_count": null,
      "outputs": [
        {
          "output_type": "stream",
          "text": [
            "Batch: 0/323\n"
          ],
          "name": "stdout"
        },
        {
          "output_type": "stream",
          "text": [
            "/usr/local/lib/python3.6/dist-packages/ipykernel_launcher.py:16: UserWarning: Implicit dimension choice for softmax has been deprecated. Change the call to include dim=X as an argument.\n",
            "  app.launch_new_instance()\n"
          ],
          "name": "stderr"
        },
        {
          "output_type": "stream",
          "text": [
            "Batch: 1/323\n",
            "Batch: 2/323\n",
            "Batch: 3/323\n",
            "Batch: 4/323\n",
            "Batch: 5/323\n",
            "Batch: 6/323\n",
            "Batch: 7/323\n",
            "Batch: 8/323\n",
            "Batch: 9/323\n",
            "Batch: 10/323\n",
            "Batch: 11/323\n",
            "Batch: 12/323\n",
            "Batch: 13/323\n",
            "Batch: 14/323\n",
            "Batch: 15/323\n",
            "Batch: 16/323\n",
            "Batch: 17/323\n",
            "Batch: 18/323\n",
            "Batch: 19/323\n",
            "Batch: 20/323\n",
            "Batch: 21/323\n",
            "Batch: 22/323\n",
            "Batch: 23/323\n",
            "Batch: 24/323\n",
            "Batch: 25/323\n",
            "Batch: 26/323\n",
            "Batch: 27/323\n",
            "Batch: 28/323\n",
            "Batch: 29/323\n",
            "Batch: 30/323\n",
            "Batch: 31/323\n",
            "Batch: 32/323\n",
            "Batch: 33/323\n",
            "Batch: 34/323\n",
            "Batch: 35/323\n",
            "Batch: 36/323\n",
            "Batch: 37/323\n",
            "Batch: 38/323\n",
            "Batch: 39/323\n",
            "Batch: 40/323\n",
            "Batch: 41/323\n",
            "Batch: 42/323\n",
            "Batch: 43/323\n",
            "Batch: 44/323\n",
            "Batch: 45/323\n",
            "Batch: 46/323\n",
            "Batch: 47/323\n",
            "Batch: 48/323\n",
            "Batch: 49/323\n",
            "Batch: 50/323\n",
            "Batch: 51/323\n",
            "Batch: 52/323\n",
            "Batch: 53/323\n",
            "Batch: 54/323\n",
            "Batch: 55/323\n",
            "Batch: 56/323\n",
            "Batch: 57/323\n",
            "Batch: 58/323\n",
            "Batch: 59/323\n",
            "Batch: 60/323\n",
            "Batch: 61/323\n",
            "Batch: 62/323\n",
            "Batch: 63/323\n",
            "Batch: 64/323\n",
            "Batch: 65/323\n",
            "Batch: 66/323\n",
            "Batch: 67/323\n",
            "Batch: 68/323\n",
            "Batch: 69/323\n",
            "Batch: 70/323\n",
            "Batch: 71/323\n",
            "Batch: 72/323\n",
            "Batch: 73/323\n",
            "Batch: 74/323\n",
            "Batch: 75/323\n",
            "Batch: 76/323\n",
            "Batch: 77/323\n",
            "Batch: 78/323\n",
            "Batch: 79/323\n",
            "Batch: 80/323\n",
            "Batch: 81/323\n",
            "Batch: 82/323\n",
            "Batch: 83/323\n",
            "Batch: 84/323\n",
            "Batch: 85/323\n",
            "Batch: 86/323\n",
            "Batch: 87/323\n",
            "Batch: 88/323\n",
            "Batch: 89/323\n",
            "Batch: 90/323\n",
            "Batch: 91/323\n",
            "Batch: 92/323\n",
            "Batch: 93/323\n",
            "Batch: 94/323\n",
            "Batch: 95/323\n",
            "Batch: 96/323\n",
            "Batch: 97/323\n",
            "Batch: 98/323\n",
            "Batch: 99/323\n",
            "Batch: 100/323\n",
            "Batch: 101/323\n",
            "Batch: 102/323\n",
            "Batch: 103/323\n",
            "Batch: 104/323\n",
            "Batch: 105/323\n",
            "Batch: 106/323\n",
            "Batch: 107/323\n",
            "Batch: 108/323\n",
            "Batch: 109/323\n",
            "Batch: 110/323\n",
            "Batch: 111/323\n",
            "Batch: 112/323\n",
            "Batch: 113/323\n",
            "Batch: 114/323\n",
            "Batch: 115/323\n",
            "Batch: 116/323\n",
            "Batch: 117/323\n",
            "Batch: 118/323\n",
            "Batch: 119/323\n",
            "Batch: 120/323\n",
            "Batch: 121/323\n",
            "Batch: 122/323\n",
            "Batch: 123/323\n",
            "Batch: 124/323\n",
            "Batch: 125/323\n",
            "Batch: 126/323\n",
            "Batch: 127/323\n",
            "Batch: 128/323\n",
            "Batch: 129/323\n",
            "Batch: 130/323\n",
            "Batch: 131/323\n",
            "Batch: 132/323\n",
            "Batch: 133/323\n",
            "Batch: 134/323\n",
            "Batch: 135/323\n",
            "Batch: 136/323\n",
            "Batch: 137/323\n",
            "Batch: 138/323\n",
            "Batch: 139/323\n",
            "Batch: 140/323\n",
            "Batch: 141/323\n",
            "Batch: 142/323\n",
            "Batch: 143/323\n",
            "Batch: 144/323\n",
            "Batch: 145/323\n",
            "Batch: 146/323\n",
            "Batch: 147/323\n",
            "Batch: 148/323\n",
            "Batch: 149/323\n",
            "Batch: 150/323\n",
            "Batch: 151/323\n",
            "Batch: 152/323\n",
            "Batch: 153/323\n",
            "Batch: 154/323\n",
            "Batch: 155/323\n",
            "Batch: 156/323\n",
            "Batch: 157/323\n",
            "Batch: 158/323\n",
            "Batch: 159/323\n",
            "Batch: 160/323\n",
            "Batch: 161/323\n",
            "Batch: 162/323\n",
            "Batch: 163/323\n",
            "Batch: 164/323\n",
            "Batch: 165/323\n",
            "Batch: 166/323\n",
            "Batch: 167/323\n",
            "Batch: 168/323\n",
            "Batch: 169/323\n",
            "Batch: 170/323\n",
            "Batch: 171/323\n",
            "Batch: 172/323\n",
            "Batch: 173/323\n",
            "Batch: 174/323\n",
            "Batch: 175/323\n",
            "Batch: 176/323\n",
            "Batch: 177/323\n",
            "Batch: 178/323\n",
            "Batch: 179/323\n",
            "Batch: 180/323\n",
            "Batch: 181/323\n",
            "Batch: 182/323\n",
            "Batch: 183/323\n",
            "Batch: 184/323\n",
            "Batch: 185/323\n",
            "Batch: 186/323\n",
            "Batch: 187/323\n",
            "Batch: 188/323\n",
            "Batch: 189/323\n",
            "Batch: 190/323\n",
            "Batch: 191/323\n",
            "Batch: 192/323\n",
            "Batch: 193/323\n",
            "Batch: 194/323\n",
            "Batch: 195/323\n",
            "Batch: 196/323\n",
            "Batch: 197/323\n",
            "Batch: 198/323\n",
            "Batch: 199/323\n",
            "Batch: 200/323\n",
            "Batch: 201/323\n",
            "Batch: 202/323\n",
            "Batch: 203/323\n",
            "Batch: 204/323\n",
            "Batch: 205/323\n",
            "Batch: 206/323\n",
            "Batch: 207/323\n",
            "Batch: 208/323\n",
            "Batch: 209/323\n",
            "Batch: 210/323\n",
            "Batch: 211/323\n",
            "Batch: 212/323\n",
            "Batch: 213/323\n",
            "Batch: 214/323\n",
            "Batch: 215/323\n",
            "Batch: 216/323\n",
            "Batch: 217/323\n",
            "Batch: 218/323\n",
            "Batch: 219/323\n",
            "Batch: 220/323\n",
            "Batch: 221/323\n",
            "Batch: 222/323\n",
            "Batch: 223/323\n",
            "Batch: 224/323\n",
            "Batch: 225/323\n",
            "Batch: 226/323\n",
            "Batch: 227/323\n",
            "Batch: 228/323\n",
            "Batch: 229/323\n",
            "Batch: 230/323\n",
            "Batch: 231/323\n",
            "Batch: 232/323\n",
            "Batch: 233/323\n",
            "Batch: 234/323\n",
            "Batch: 235/323\n",
            "Batch: 236/323\n",
            "Batch: 237/323\n",
            "Batch: 238/323\n",
            "Batch: 239/323\n",
            "Batch: 240/323\n",
            "Batch: 241/323\n",
            "Batch: 242/323\n",
            "Batch: 243/323\n",
            "Batch: 244/323\n",
            "Batch: 245/323\n",
            "Batch: 246/323\n",
            "Batch: 247/323\n",
            "Batch: 248/323\n",
            "Batch: 249/323\n",
            "Batch: 250/323\n",
            "Batch: 251/323\n",
            "Batch: 252/323\n",
            "Batch: 253/323\n",
            "Batch: 254/323\n",
            "Batch: 255/323\n",
            "Batch: 256/323\n",
            "Batch: 257/323\n",
            "Batch: 258/323\n",
            "Batch: 259/323\n",
            "Batch: 260/323\n",
            "Batch: 261/323\n",
            "Batch: 262/323\n",
            "Batch: 263/323\n",
            "Batch: 264/323\n",
            "Batch: 265/323\n",
            "Batch: 266/323\n",
            "Batch: 267/323\n",
            "Batch: 268/323\n",
            "Batch: 269/323\n",
            "Batch: 270/323\n",
            "Batch: 271/323\n",
            "Batch: 272/323\n",
            "Batch: 273/323\n",
            "Batch: 274/323\n",
            "Batch: 275/323\n",
            "Batch: 276/323\n",
            "Batch: 277/323\n",
            "Batch: 278/323\n",
            "Batch: 279/323\n",
            "Batch: 280/323\n",
            "Batch: 281/323\n",
            "Batch: 282/323\n",
            "Batch: 283/323\n",
            "Batch: 284/323\n",
            "Batch: 285/323\n",
            "Batch: 286/323\n",
            "Batch: 287/323\n",
            "Batch: 288/323\n",
            "Batch: 289/323\n",
            "Batch: 290/323\n",
            "Batch: 291/323\n",
            "Batch: 292/323\n",
            "Batch: 293/323\n",
            "Batch: 294/323\n",
            "Batch: 295/323\n",
            "Batch: 296/323\n",
            "Batch: 297/323\n",
            "Batch: 298/323\n",
            "Batch: 299/323\n",
            "Batch: 300/323\n",
            "Batch: 301/323\n",
            "Batch: 302/323\n",
            "Batch: 303/323\n",
            "Batch: 304/323\n",
            "Batch: 305/323\n",
            "Batch: 306/323\n",
            "Batch: 307/323\n",
            "Batch: 308/323\n",
            "Batch: 309/323\n",
            "Batch: 310/323\n",
            "Batch: 311/323\n",
            "Batch: 312/323\n",
            "Batch: 313/323\n",
            "Batch: 314/323\n",
            "Batch: 315/323\n",
            "Batch: 316/323\n",
            "Batch: 317/323\n",
            "Batch: 318/323\n",
            "Batch: 319/323\n",
            "Batch: 320/323\n",
            "Batch: 321/323\n",
            "Batch: 322/323\n",
            "Batch: 323/323\n"
          ],
          "name": "stdout"
        }
      ]
    },
    {
      "cell_type": "markdown",
      "metadata": {
        "id": "YseulOcpBsmc"
      },
      "source": [
        "## Preparing test dataset predictions for Kaggle\n",
        "\n",
        "Looking at the Kaggle sample submission, we find that it wants our models prediction probability outputs in a DataFrame with an ID and a column for each different dog breed. \n",
        "https://www.kaggle.com/c/dog-breed-identification/overview/evaluation\n",
        "\n",
        "To get the data in this format, we'll:\n",
        "* Create a pandas DataFrame with an ID column as well as a column for each dog breed\n",
        "* Add data to the Id column by extracting the test image ID's from their filepaths\n",
        "* Add data (the prediction probabilities) to each of the dog breed columns\n",
        "* Export the DataFrame as a CSV to submit to Kaggle.\n"
      ]
    },
    {
      "cell_type": "code",
      "metadata": {
        "colab": {
          "base_uri": "https://localhost:8080/",
          "height": 115
        },
        "id": "K8kQsCIY0qNv",
        "outputId": "dd2629f8-de69-4d66-e51d-d014a908467f"
      },
      "source": [
        "# Create a pandas DataFrame with empty columns\n",
        "predictions_df = pd.DataFrame(columns=['id'] + list(unique_breeds))\n",
        "predictions_df.head()"
      ],
      "execution_count": null,
      "outputs": [
        {
          "output_type": "execute_result",
          "data": {
            "text/html": [
              "<div>\n",
              "<style scoped>\n",
              "    .dataframe tbody tr th:only-of-type {\n",
              "        vertical-align: middle;\n",
              "    }\n",
              "\n",
              "    .dataframe tbody tr th {\n",
              "        vertical-align: top;\n",
              "    }\n",
              "\n",
              "    .dataframe thead th {\n",
              "        text-align: right;\n",
              "    }\n",
              "</style>\n",
              "<table border=\"1\" class=\"dataframe\">\n",
              "  <thead>\n",
              "    <tr style=\"text-align: right;\">\n",
              "      <th></th>\n",
              "      <th>id</th>\n",
              "      <th>affenpinscher</th>\n",
              "      <th>afghan_hound</th>\n",
              "      <th>african_hunting_dog</th>\n",
              "      <th>airedale</th>\n",
              "      <th>american_staffordshire_terrier</th>\n",
              "      <th>appenzeller</th>\n",
              "      <th>australian_terrier</th>\n",
              "      <th>basenji</th>\n",
              "      <th>basset</th>\n",
              "      <th>beagle</th>\n",
              "      <th>bedlington_terrier</th>\n",
              "      <th>bernese_mountain_dog</th>\n",
              "      <th>black-and-tan_coonhound</th>\n",
              "      <th>blenheim_spaniel</th>\n",
              "      <th>bloodhound</th>\n",
              "      <th>bluetick</th>\n",
              "      <th>border_collie</th>\n",
              "      <th>border_terrier</th>\n",
              "      <th>borzoi</th>\n",
              "      <th>boston_bull</th>\n",
              "      <th>bouvier_des_flandres</th>\n",
              "      <th>boxer</th>\n",
              "      <th>brabancon_griffon</th>\n",
              "      <th>briard</th>\n",
              "      <th>brittany_spaniel</th>\n",
              "      <th>bull_mastiff</th>\n",
              "      <th>cairn</th>\n",
              "      <th>cardigan</th>\n",
              "      <th>chesapeake_bay_retriever</th>\n",
              "      <th>chihuahua</th>\n",
              "      <th>chow</th>\n",
              "      <th>clumber</th>\n",
              "      <th>cocker_spaniel</th>\n",
              "      <th>collie</th>\n",
              "      <th>curly-coated_retriever</th>\n",
              "      <th>dandie_dinmont</th>\n",
              "      <th>dhole</th>\n",
              "      <th>dingo</th>\n",
              "      <th>doberman</th>\n",
              "      <th>...</th>\n",
              "      <th>norwegian_elkhound</th>\n",
              "      <th>norwich_terrier</th>\n",
              "      <th>old_english_sheepdog</th>\n",
              "      <th>otterhound</th>\n",
              "      <th>papillon</th>\n",
              "      <th>pekinese</th>\n",
              "      <th>pembroke</th>\n",
              "      <th>pomeranian</th>\n",
              "      <th>pug</th>\n",
              "      <th>redbone</th>\n",
              "      <th>rhodesian_ridgeback</th>\n",
              "      <th>rottweiler</th>\n",
              "      <th>saint_bernard</th>\n",
              "      <th>saluki</th>\n",
              "      <th>samoyed</th>\n",
              "      <th>schipperke</th>\n",
              "      <th>scotch_terrier</th>\n",
              "      <th>scottish_deerhound</th>\n",
              "      <th>sealyham_terrier</th>\n",
              "      <th>shetland_sheepdog</th>\n",
              "      <th>shih-tzu</th>\n",
              "      <th>siberian_husky</th>\n",
              "      <th>silky_terrier</th>\n",
              "      <th>soft-coated_wheaten_terrier</th>\n",
              "      <th>staffordshire_bullterrier</th>\n",
              "      <th>standard_poodle</th>\n",
              "      <th>standard_schnauzer</th>\n",
              "      <th>sussex_spaniel</th>\n",
              "      <th>tibetan_mastiff</th>\n",
              "      <th>tibetan_terrier</th>\n",
              "      <th>toy_poodle</th>\n",
              "      <th>toy_terrier</th>\n",
              "      <th>vizsla</th>\n",
              "      <th>walker_hound</th>\n",
              "      <th>weimaraner</th>\n",
              "      <th>welsh_springer_spaniel</th>\n",
              "      <th>west_highland_white_terrier</th>\n",
              "      <th>whippet</th>\n",
              "      <th>wire-haired_fox_terrier</th>\n",
              "      <th>yorkshire_terrier</th>\n",
              "    </tr>\n",
              "  </thead>\n",
              "  <tbody>\n",
              "  </tbody>\n",
              "</table>\n",
              "<p>0 rows × 121 columns</p>\n",
              "</div>"
            ],
            "text/plain": [
              "Empty DataFrame\n",
              "Columns: [id, affenpinscher, afghan_hound, african_hunting_dog, airedale, american_staffordshire_terrier, appenzeller, australian_terrier, basenji, basset, beagle, bedlington_terrier, bernese_mountain_dog, black-and-tan_coonhound, blenheim_spaniel, bloodhound, bluetick, border_collie, border_terrier, borzoi, boston_bull, bouvier_des_flandres, boxer, brabancon_griffon, briard, brittany_spaniel, bull_mastiff, cairn, cardigan, chesapeake_bay_retriever, chihuahua, chow, clumber, cocker_spaniel, collie, curly-coated_retriever, dandie_dinmont, dhole, dingo, doberman, english_foxhound, english_setter, english_springer, entlebucher, eskimo_dog, flat-coated_retriever, french_bulldog, german_shepherd, german_short-haired_pointer, giant_schnauzer, golden_retriever, gordon_setter, great_dane, great_pyrenees, greater_swiss_mountain_dog, groenendael, ibizan_hound, irish_setter, irish_terrier, irish_water_spaniel, irish_wolfhound, italian_greyhound, japanese_spaniel, keeshond, kelpie, kerry_blue_terrier, komondor, kuvasz, labrador_retriever, lakeland_terrier, leonberg, lhasa, malamute, malinois, maltese_dog, mexican_hairless, miniature_pinscher, miniature_poodle, miniature_schnauzer, newfoundland, norfolk_terrier, norwegian_elkhound, norwich_terrier, old_english_sheepdog, otterhound, papillon, pekinese, pembroke, pomeranian, pug, redbone, rhodesian_ridgeback, rottweiler, saint_bernard, saluki, samoyed, schipperke, scotch_terrier, scottish_deerhound, sealyham_terrier, ...]\n",
              "Index: []\n",
              "\n",
              "[0 rows x 121 columns]"
            ]
          },
          "metadata": {
            "tags": []
          },
          "execution_count": 57
        }
      ]
    },
    {
      "cell_type": "code",
      "metadata": {
        "id": "JviBZO_e2kjF"
      },
      "source": [
        "# Get the test image ID's\n",
        "test_ids = [os.path.splitext(path)[0] for path in os.listdir(TEST_IMG_PATH)]"
      ],
      "execution_count": null,
      "outputs": []
    },
    {
      "cell_type": "code",
      "metadata": {
        "colab": {
          "base_uri": "https://localhost:8080/"
        },
        "id": "gMqKEOJ53k6D",
        "outputId": "38a2f8eb-f618-45de-e9d3-7ffb1ca855d3"
      },
      "source": [
        "test_ids[:10]"
      ],
      "execution_count": null,
      "outputs": [
        {
          "output_type": "execute_result",
          "data": {
            "text/plain": [
              "['ea1039f3869357b53abf4ace351218a6',\n",
              " 'ed61910363f37890c8cc47b25836f82e',\n",
              " 'eb06356375888d41903fff14ef7c4104',\n",
              " 'f2c4131850c17dee485d48c2bb8a358e',\n",
              " 'f15527e7a063275291e469b4e5db751c',\n",
              " 'f16cb4716034cecf3edd7260109fdf17',\n",
              " 'ec6b4aee97cf7eeb6cb26540af933db2',\n",
              " 'f1f339f43e83cfb8e4bf76ff5671489c',\n",
              " 'ed3d8126013933f566dc4113efe7c0bc',\n",
              " 'f1eadf24d904d3c1e26d8081555901be']"
            ]
          },
          "metadata": {
            "tags": []
          },
          "execution_count": 59
        }
      ]
    },
    {
      "cell_type": "code",
      "metadata": {
        "id": "BLZkhzVh3m11"
      },
      "source": [
        "# Append test image ID's to the predictions DataFrame\n",
        "predictions_df['id'] = test_ids"
      ],
      "execution_count": null,
      "outputs": []
    },
    {
      "cell_type": "code",
      "metadata": {
        "colab": {
          "base_uri": "https://localhost:8080/",
          "height": 270
        },
        "id": "tqKVACDx4EVo",
        "outputId": "5354e33d-af3f-4234-a161-96ac880c5abe"
      },
      "source": [
        "predictions_df.head()"
      ],
      "execution_count": null,
      "outputs": [
        {
          "output_type": "execute_result",
          "data": {
            "text/html": [
              "<div>\n",
              "<style scoped>\n",
              "    .dataframe tbody tr th:only-of-type {\n",
              "        vertical-align: middle;\n",
              "    }\n",
              "\n",
              "    .dataframe tbody tr th {\n",
              "        vertical-align: top;\n",
              "    }\n",
              "\n",
              "    .dataframe thead th {\n",
              "        text-align: right;\n",
              "    }\n",
              "</style>\n",
              "<table border=\"1\" class=\"dataframe\">\n",
              "  <thead>\n",
              "    <tr style=\"text-align: right;\">\n",
              "      <th></th>\n",
              "      <th>id</th>\n",
              "      <th>affenpinscher</th>\n",
              "      <th>afghan_hound</th>\n",
              "      <th>african_hunting_dog</th>\n",
              "      <th>airedale</th>\n",
              "      <th>american_staffordshire_terrier</th>\n",
              "      <th>appenzeller</th>\n",
              "      <th>australian_terrier</th>\n",
              "      <th>basenji</th>\n",
              "      <th>basset</th>\n",
              "      <th>beagle</th>\n",
              "      <th>bedlington_terrier</th>\n",
              "      <th>bernese_mountain_dog</th>\n",
              "      <th>black-and-tan_coonhound</th>\n",
              "      <th>blenheim_spaniel</th>\n",
              "      <th>bloodhound</th>\n",
              "      <th>bluetick</th>\n",
              "      <th>border_collie</th>\n",
              "      <th>border_terrier</th>\n",
              "      <th>borzoi</th>\n",
              "      <th>boston_bull</th>\n",
              "      <th>bouvier_des_flandres</th>\n",
              "      <th>boxer</th>\n",
              "      <th>brabancon_griffon</th>\n",
              "      <th>briard</th>\n",
              "      <th>brittany_spaniel</th>\n",
              "      <th>bull_mastiff</th>\n",
              "      <th>cairn</th>\n",
              "      <th>cardigan</th>\n",
              "      <th>chesapeake_bay_retriever</th>\n",
              "      <th>chihuahua</th>\n",
              "      <th>chow</th>\n",
              "      <th>clumber</th>\n",
              "      <th>cocker_spaniel</th>\n",
              "      <th>collie</th>\n",
              "      <th>curly-coated_retriever</th>\n",
              "      <th>dandie_dinmont</th>\n",
              "      <th>dhole</th>\n",
              "      <th>dingo</th>\n",
              "      <th>doberman</th>\n",
              "      <th>...</th>\n",
              "      <th>norwegian_elkhound</th>\n",
              "      <th>norwich_terrier</th>\n",
              "      <th>old_english_sheepdog</th>\n",
              "      <th>otterhound</th>\n",
              "      <th>papillon</th>\n",
              "      <th>pekinese</th>\n",
              "      <th>pembroke</th>\n",
              "      <th>pomeranian</th>\n",
              "      <th>pug</th>\n",
              "      <th>redbone</th>\n",
              "      <th>rhodesian_ridgeback</th>\n",
              "      <th>rottweiler</th>\n",
              "      <th>saint_bernard</th>\n",
              "      <th>saluki</th>\n",
              "      <th>samoyed</th>\n",
              "      <th>schipperke</th>\n",
              "      <th>scotch_terrier</th>\n",
              "      <th>scottish_deerhound</th>\n",
              "      <th>sealyham_terrier</th>\n",
              "      <th>shetland_sheepdog</th>\n",
              "      <th>shih-tzu</th>\n",
              "      <th>siberian_husky</th>\n",
              "      <th>silky_terrier</th>\n",
              "      <th>soft-coated_wheaten_terrier</th>\n",
              "      <th>staffordshire_bullterrier</th>\n",
              "      <th>standard_poodle</th>\n",
              "      <th>standard_schnauzer</th>\n",
              "      <th>sussex_spaniel</th>\n",
              "      <th>tibetan_mastiff</th>\n",
              "      <th>tibetan_terrier</th>\n",
              "      <th>toy_poodle</th>\n",
              "      <th>toy_terrier</th>\n",
              "      <th>vizsla</th>\n",
              "      <th>walker_hound</th>\n",
              "      <th>weimaraner</th>\n",
              "      <th>welsh_springer_spaniel</th>\n",
              "      <th>west_highland_white_terrier</th>\n",
              "      <th>whippet</th>\n",
              "      <th>wire-haired_fox_terrier</th>\n",
              "      <th>yorkshire_terrier</th>\n",
              "    </tr>\n",
              "  </thead>\n",
              "  <tbody>\n",
              "    <tr>\n",
              "      <th>0</th>\n",
              "      <td>ea1039f3869357b53abf4ace351218a6</td>\n",
              "      <td>NaN</td>\n",
              "      <td>NaN</td>\n",
              "      <td>NaN</td>\n",
              "      <td>NaN</td>\n",
              "      <td>NaN</td>\n",
              "      <td>NaN</td>\n",
              "      <td>NaN</td>\n",
              "      <td>NaN</td>\n",
              "      <td>NaN</td>\n",
              "      <td>NaN</td>\n",
              "      <td>NaN</td>\n",
              "      <td>NaN</td>\n",
              "      <td>NaN</td>\n",
              "      <td>NaN</td>\n",
              "      <td>NaN</td>\n",
              "      <td>NaN</td>\n",
              "      <td>NaN</td>\n",
              "      <td>NaN</td>\n",
              "      <td>NaN</td>\n",
              "      <td>NaN</td>\n",
              "      <td>NaN</td>\n",
              "      <td>NaN</td>\n",
              "      <td>NaN</td>\n",
              "      <td>NaN</td>\n",
              "      <td>NaN</td>\n",
              "      <td>NaN</td>\n",
              "      <td>NaN</td>\n",
              "      <td>NaN</td>\n",
              "      <td>NaN</td>\n",
              "      <td>NaN</td>\n",
              "      <td>NaN</td>\n",
              "      <td>NaN</td>\n",
              "      <td>NaN</td>\n",
              "      <td>NaN</td>\n",
              "      <td>NaN</td>\n",
              "      <td>NaN</td>\n",
              "      <td>NaN</td>\n",
              "      <td>NaN</td>\n",
              "      <td>NaN</td>\n",
              "      <td>...</td>\n",
              "      <td>NaN</td>\n",
              "      <td>NaN</td>\n",
              "      <td>NaN</td>\n",
              "      <td>NaN</td>\n",
              "      <td>NaN</td>\n",
              "      <td>NaN</td>\n",
              "      <td>NaN</td>\n",
              "      <td>NaN</td>\n",
              "      <td>NaN</td>\n",
              "      <td>NaN</td>\n",
              "      <td>NaN</td>\n",
              "      <td>NaN</td>\n",
              "      <td>NaN</td>\n",
              "      <td>NaN</td>\n",
              "      <td>NaN</td>\n",
              "      <td>NaN</td>\n",
              "      <td>NaN</td>\n",
              "      <td>NaN</td>\n",
              "      <td>NaN</td>\n",
              "      <td>NaN</td>\n",
              "      <td>NaN</td>\n",
              "      <td>NaN</td>\n",
              "      <td>NaN</td>\n",
              "      <td>NaN</td>\n",
              "      <td>NaN</td>\n",
              "      <td>NaN</td>\n",
              "      <td>NaN</td>\n",
              "      <td>NaN</td>\n",
              "      <td>NaN</td>\n",
              "      <td>NaN</td>\n",
              "      <td>NaN</td>\n",
              "      <td>NaN</td>\n",
              "      <td>NaN</td>\n",
              "      <td>NaN</td>\n",
              "      <td>NaN</td>\n",
              "      <td>NaN</td>\n",
              "      <td>NaN</td>\n",
              "      <td>NaN</td>\n",
              "      <td>NaN</td>\n",
              "      <td>NaN</td>\n",
              "    </tr>\n",
              "    <tr>\n",
              "      <th>1</th>\n",
              "      <td>ed61910363f37890c8cc47b25836f82e</td>\n",
              "      <td>NaN</td>\n",
              "      <td>NaN</td>\n",
              "      <td>NaN</td>\n",
              "      <td>NaN</td>\n",
              "      <td>NaN</td>\n",
              "      <td>NaN</td>\n",
              "      <td>NaN</td>\n",
              "      <td>NaN</td>\n",
              "      <td>NaN</td>\n",
              "      <td>NaN</td>\n",
              "      <td>NaN</td>\n",
              "      <td>NaN</td>\n",
              "      <td>NaN</td>\n",
              "      <td>NaN</td>\n",
              "      <td>NaN</td>\n",
              "      <td>NaN</td>\n",
              "      <td>NaN</td>\n",
              "      <td>NaN</td>\n",
              "      <td>NaN</td>\n",
              "      <td>NaN</td>\n",
              "      <td>NaN</td>\n",
              "      <td>NaN</td>\n",
              "      <td>NaN</td>\n",
              "      <td>NaN</td>\n",
              "      <td>NaN</td>\n",
              "      <td>NaN</td>\n",
              "      <td>NaN</td>\n",
              "      <td>NaN</td>\n",
              "      <td>NaN</td>\n",
              "      <td>NaN</td>\n",
              "      <td>NaN</td>\n",
              "      <td>NaN</td>\n",
              "      <td>NaN</td>\n",
              "      <td>NaN</td>\n",
              "      <td>NaN</td>\n",
              "      <td>NaN</td>\n",
              "      <td>NaN</td>\n",
              "      <td>NaN</td>\n",
              "      <td>NaN</td>\n",
              "      <td>...</td>\n",
              "      <td>NaN</td>\n",
              "      <td>NaN</td>\n",
              "      <td>NaN</td>\n",
              "      <td>NaN</td>\n",
              "      <td>NaN</td>\n",
              "      <td>NaN</td>\n",
              "      <td>NaN</td>\n",
              "      <td>NaN</td>\n",
              "      <td>NaN</td>\n",
              "      <td>NaN</td>\n",
              "      <td>NaN</td>\n",
              "      <td>NaN</td>\n",
              "      <td>NaN</td>\n",
              "      <td>NaN</td>\n",
              "      <td>NaN</td>\n",
              "      <td>NaN</td>\n",
              "      <td>NaN</td>\n",
              "      <td>NaN</td>\n",
              "      <td>NaN</td>\n",
              "      <td>NaN</td>\n",
              "      <td>NaN</td>\n",
              "      <td>NaN</td>\n",
              "      <td>NaN</td>\n",
              "      <td>NaN</td>\n",
              "      <td>NaN</td>\n",
              "      <td>NaN</td>\n",
              "      <td>NaN</td>\n",
              "      <td>NaN</td>\n",
              "      <td>NaN</td>\n",
              "      <td>NaN</td>\n",
              "      <td>NaN</td>\n",
              "      <td>NaN</td>\n",
              "      <td>NaN</td>\n",
              "      <td>NaN</td>\n",
              "      <td>NaN</td>\n",
              "      <td>NaN</td>\n",
              "      <td>NaN</td>\n",
              "      <td>NaN</td>\n",
              "      <td>NaN</td>\n",
              "      <td>NaN</td>\n",
              "    </tr>\n",
              "    <tr>\n",
              "      <th>2</th>\n",
              "      <td>eb06356375888d41903fff14ef7c4104</td>\n",
              "      <td>NaN</td>\n",
              "      <td>NaN</td>\n",
              "      <td>NaN</td>\n",
              "      <td>NaN</td>\n",
              "      <td>NaN</td>\n",
              "      <td>NaN</td>\n",
              "      <td>NaN</td>\n",
              "      <td>NaN</td>\n",
              "      <td>NaN</td>\n",
              "      <td>NaN</td>\n",
              "      <td>NaN</td>\n",
              "      <td>NaN</td>\n",
              "      <td>NaN</td>\n",
              "      <td>NaN</td>\n",
              "      <td>NaN</td>\n",
              "      <td>NaN</td>\n",
              "      <td>NaN</td>\n",
              "      <td>NaN</td>\n",
              "      <td>NaN</td>\n",
              "      <td>NaN</td>\n",
              "      <td>NaN</td>\n",
              "      <td>NaN</td>\n",
              "      <td>NaN</td>\n",
              "      <td>NaN</td>\n",
              "      <td>NaN</td>\n",
              "      <td>NaN</td>\n",
              "      <td>NaN</td>\n",
              "      <td>NaN</td>\n",
              "      <td>NaN</td>\n",
              "      <td>NaN</td>\n",
              "      <td>NaN</td>\n",
              "      <td>NaN</td>\n",
              "      <td>NaN</td>\n",
              "      <td>NaN</td>\n",
              "      <td>NaN</td>\n",
              "      <td>NaN</td>\n",
              "      <td>NaN</td>\n",
              "      <td>NaN</td>\n",
              "      <td>NaN</td>\n",
              "      <td>...</td>\n",
              "      <td>NaN</td>\n",
              "      <td>NaN</td>\n",
              "      <td>NaN</td>\n",
              "      <td>NaN</td>\n",
              "      <td>NaN</td>\n",
              "      <td>NaN</td>\n",
              "      <td>NaN</td>\n",
              "      <td>NaN</td>\n",
              "      <td>NaN</td>\n",
              "      <td>NaN</td>\n",
              "      <td>NaN</td>\n",
              "      <td>NaN</td>\n",
              "      <td>NaN</td>\n",
              "      <td>NaN</td>\n",
              "      <td>NaN</td>\n",
              "      <td>NaN</td>\n",
              "      <td>NaN</td>\n",
              "      <td>NaN</td>\n",
              "      <td>NaN</td>\n",
              "      <td>NaN</td>\n",
              "      <td>NaN</td>\n",
              "      <td>NaN</td>\n",
              "      <td>NaN</td>\n",
              "      <td>NaN</td>\n",
              "      <td>NaN</td>\n",
              "      <td>NaN</td>\n",
              "      <td>NaN</td>\n",
              "      <td>NaN</td>\n",
              "      <td>NaN</td>\n",
              "      <td>NaN</td>\n",
              "      <td>NaN</td>\n",
              "      <td>NaN</td>\n",
              "      <td>NaN</td>\n",
              "      <td>NaN</td>\n",
              "      <td>NaN</td>\n",
              "      <td>NaN</td>\n",
              "      <td>NaN</td>\n",
              "      <td>NaN</td>\n",
              "      <td>NaN</td>\n",
              "      <td>NaN</td>\n",
              "    </tr>\n",
              "    <tr>\n",
              "      <th>3</th>\n",
              "      <td>f2c4131850c17dee485d48c2bb8a358e</td>\n",
              "      <td>NaN</td>\n",
              "      <td>NaN</td>\n",
              "      <td>NaN</td>\n",
              "      <td>NaN</td>\n",
              "      <td>NaN</td>\n",
              "      <td>NaN</td>\n",
              "      <td>NaN</td>\n",
              "      <td>NaN</td>\n",
              "      <td>NaN</td>\n",
              "      <td>NaN</td>\n",
              "      <td>NaN</td>\n",
              "      <td>NaN</td>\n",
              "      <td>NaN</td>\n",
              "      <td>NaN</td>\n",
              "      <td>NaN</td>\n",
              "      <td>NaN</td>\n",
              "      <td>NaN</td>\n",
              "      <td>NaN</td>\n",
              "      <td>NaN</td>\n",
              "      <td>NaN</td>\n",
              "      <td>NaN</td>\n",
              "      <td>NaN</td>\n",
              "      <td>NaN</td>\n",
              "      <td>NaN</td>\n",
              "      <td>NaN</td>\n",
              "      <td>NaN</td>\n",
              "      <td>NaN</td>\n",
              "      <td>NaN</td>\n",
              "      <td>NaN</td>\n",
              "      <td>NaN</td>\n",
              "      <td>NaN</td>\n",
              "      <td>NaN</td>\n",
              "      <td>NaN</td>\n",
              "      <td>NaN</td>\n",
              "      <td>NaN</td>\n",
              "      <td>NaN</td>\n",
              "      <td>NaN</td>\n",
              "      <td>NaN</td>\n",
              "      <td>NaN</td>\n",
              "      <td>...</td>\n",
              "      <td>NaN</td>\n",
              "      <td>NaN</td>\n",
              "      <td>NaN</td>\n",
              "      <td>NaN</td>\n",
              "      <td>NaN</td>\n",
              "      <td>NaN</td>\n",
              "      <td>NaN</td>\n",
              "      <td>NaN</td>\n",
              "      <td>NaN</td>\n",
              "      <td>NaN</td>\n",
              "      <td>NaN</td>\n",
              "      <td>NaN</td>\n",
              "      <td>NaN</td>\n",
              "      <td>NaN</td>\n",
              "      <td>NaN</td>\n",
              "      <td>NaN</td>\n",
              "      <td>NaN</td>\n",
              "      <td>NaN</td>\n",
              "      <td>NaN</td>\n",
              "      <td>NaN</td>\n",
              "      <td>NaN</td>\n",
              "      <td>NaN</td>\n",
              "      <td>NaN</td>\n",
              "      <td>NaN</td>\n",
              "      <td>NaN</td>\n",
              "      <td>NaN</td>\n",
              "      <td>NaN</td>\n",
              "      <td>NaN</td>\n",
              "      <td>NaN</td>\n",
              "      <td>NaN</td>\n",
              "      <td>NaN</td>\n",
              "      <td>NaN</td>\n",
              "      <td>NaN</td>\n",
              "      <td>NaN</td>\n",
              "      <td>NaN</td>\n",
              "      <td>NaN</td>\n",
              "      <td>NaN</td>\n",
              "      <td>NaN</td>\n",
              "      <td>NaN</td>\n",
              "      <td>NaN</td>\n",
              "    </tr>\n",
              "    <tr>\n",
              "      <th>4</th>\n",
              "      <td>f15527e7a063275291e469b4e5db751c</td>\n",
              "      <td>NaN</td>\n",
              "      <td>NaN</td>\n",
              "      <td>NaN</td>\n",
              "      <td>NaN</td>\n",
              "      <td>NaN</td>\n",
              "      <td>NaN</td>\n",
              "      <td>NaN</td>\n",
              "      <td>NaN</td>\n",
              "      <td>NaN</td>\n",
              "      <td>NaN</td>\n",
              "      <td>NaN</td>\n",
              "      <td>NaN</td>\n",
              "      <td>NaN</td>\n",
              "      <td>NaN</td>\n",
              "      <td>NaN</td>\n",
              "      <td>NaN</td>\n",
              "      <td>NaN</td>\n",
              "      <td>NaN</td>\n",
              "      <td>NaN</td>\n",
              "      <td>NaN</td>\n",
              "      <td>NaN</td>\n",
              "      <td>NaN</td>\n",
              "      <td>NaN</td>\n",
              "      <td>NaN</td>\n",
              "      <td>NaN</td>\n",
              "      <td>NaN</td>\n",
              "      <td>NaN</td>\n",
              "      <td>NaN</td>\n",
              "      <td>NaN</td>\n",
              "      <td>NaN</td>\n",
              "      <td>NaN</td>\n",
              "      <td>NaN</td>\n",
              "      <td>NaN</td>\n",
              "      <td>NaN</td>\n",
              "      <td>NaN</td>\n",
              "      <td>NaN</td>\n",
              "      <td>NaN</td>\n",
              "      <td>NaN</td>\n",
              "      <td>NaN</td>\n",
              "      <td>...</td>\n",
              "      <td>NaN</td>\n",
              "      <td>NaN</td>\n",
              "      <td>NaN</td>\n",
              "      <td>NaN</td>\n",
              "      <td>NaN</td>\n",
              "      <td>NaN</td>\n",
              "      <td>NaN</td>\n",
              "      <td>NaN</td>\n",
              "      <td>NaN</td>\n",
              "      <td>NaN</td>\n",
              "      <td>NaN</td>\n",
              "      <td>NaN</td>\n",
              "      <td>NaN</td>\n",
              "      <td>NaN</td>\n",
              "      <td>NaN</td>\n",
              "      <td>NaN</td>\n",
              "      <td>NaN</td>\n",
              "      <td>NaN</td>\n",
              "      <td>NaN</td>\n",
              "      <td>NaN</td>\n",
              "      <td>NaN</td>\n",
              "      <td>NaN</td>\n",
              "      <td>NaN</td>\n",
              "      <td>NaN</td>\n",
              "      <td>NaN</td>\n",
              "      <td>NaN</td>\n",
              "      <td>NaN</td>\n",
              "      <td>NaN</td>\n",
              "      <td>NaN</td>\n",
              "      <td>NaN</td>\n",
              "      <td>NaN</td>\n",
              "      <td>NaN</td>\n",
              "      <td>NaN</td>\n",
              "      <td>NaN</td>\n",
              "      <td>NaN</td>\n",
              "      <td>NaN</td>\n",
              "      <td>NaN</td>\n",
              "      <td>NaN</td>\n",
              "      <td>NaN</td>\n",
              "      <td>NaN</td>\n",
              "    </tr>\n",
              "  </tbody>\n",
              "</table>\n",
              "<p>5 rows × 121 columns</p>\n",
              "</div>"
            ],
            "text/plain": [
              "                                 id  ... yorkshire_terrier\n",
              "0  ea1039f3869357b53abf4ace351218a6  ...               NaN\n",
              "1  ed61910363f37890c8cc47b25836f82e  ...               NaN\n",
              "2  eb06356375888d41903fff14ef7c4104  ...               NaN\n",
              "3  f2c4131850c17dee485d48c2bb8a358e  ...               NaN\n",
              "4  f15527e7a063275291e469b4e5db751c  ...               NaN\n",
              "\n",
              "[5 rows x 121 columns]"
            ]
          },
          "metadata": {
            "tags": []
          },
          "execution_count": 61
        }
      ]
    },
    {
      "cell_type": "code",
      "metadata": {
        "id": "3CjFcVqU4F85"
      },
      "source": [
        "# Add the prediction probabilities to each dog breed column\n",
        "predictions_df[list(unique_breeds)] = test_predictions"
      ],
      "execution_count": null,
      "outputs": []
    },
    {
      "cell_type": "code",
      "metadata": {
        "id": "hc_3Lrf24oaY"
      },
      "source": [
        "# Save our predictions dataframe to CSV for submission to Kaggle\n",
        "predictions_df.to_csv(\"drive/MyDrive/Google Colab Data/Dog Vision Pytorch/full_model_predictions_submission_1_resnet18.csv\",\n",
        "                index=False)"
      ],
      "execution_count": null,
      "outputs": []
    },
    {
      "cell_type": "code",
      "metadata": {
        "id": "Il7EVYkx4Sxp"
      },
      "source": [
        "# load them to visualize\n",
        "loaded_predictions_df = pd.read_csv('drive/MyDrive/Google Colab Data/Dog Vision Pytorch/full_model_predictions_submission_1_resnet18.csv')"
      ],
      "execution_count": null,
      "outputs": []
    },
    {
      "cell_type": "markdown",
      "metadata": {
        "id": "fArLnRtwlCtq"
      },
      "source": [
        "Kaggle Score: 0.88175"
      ]
    },
    {
      "cell_type": "markdown",
      "metadata": {
        "id": "SidDM6Rj6mYx"
      },
      "source": [
        "## Making predictions on custom images\n",
        "\n",
        "To make predictions on custom images, we'll:\n",
        "* Get the filepaths of our own images.\n",
        "* Turn the filepaths into a `UnlabledDataset`.\n",
        "* Turn the `UnlabledDataset` into a `DataLoader`.\n",
        "* Pass the `DataLoader` to our `predict()` function.\n",
        "* Convert the prediction output probailities to prediction labels.\n",
        "* Compare the predicted labels to the custom images.\n"
      ]
    },
    {
      "cell_type": "code",
      "metadata": {
        "id": "MpC8vsOJ6vSX"
      },
      "source": [
        "# Get the custom image filepaths\n",
        "custom_path = \"drive/MyDrive/Google Colab Data/Dog Vision/my-dog-photos/\"\n",
        "custom_image_paths = [custom_path + fname for fname in os.listdir(custom_path)]"
      ],
      "execution_count": null,
      "outputs": []
    },
    {
      "cell_type": "code",
      "metadata": {
        "colab": {
          "base_uri": "https://localhost:8080/"
        },
        "id": "mACknCi-7S1h",
        "outputId": "6e1e8968-705e-4149-e241-73aaa8a10c56"
      },
      "source": [
        "custom_image_paths"
      ],
      "execution_count": null,
      "outputs": [
        {
          "output_type": "execute_result",
          "data": {
            "text/plain": [
              "['drive/MyDrive/Google Colab Data/Dog Vision/my-dog-photos/annie_2.jpeg',\n",
              " 'drive/MyDrive/Google Colab Data/Dog Vision/my-dog-photos/annie_3.jpeg',\n",
              " 'drive/MyDrive/Google Colab Data/Dog Vision/my-dog-photos/annie_4.jpeg',\n",
              " 'drive/MyDrive/Google Colab Data/Dog Vision/my-dog-photos/annie_5.jpeg',\n",
              " 'drive/MyDrive/Google Colab Data/Dog Vision/my-dog-photos/annie_1.jpeg']"
            ]
          },
          "metadata": {
            "tags": []
          },
          "execution_count": 8
        }
      ]
    },
    {
      "cell_type": "code",
      "metadata": {
        "id": "clb7KEUf7Unk"
      },
      "source": [
        "# Turn custom images into a Dataset\n",
        "custom_img_dataset = UnlabledDataset(custom_image_paths, transform=transform)"
      ],
      "execution_count": null,
      "outputs": []
    },
    {
      "cell_type": "code",
      "metadata": {
        "id": "jCR0DExB709N"
      },
      "source": [
        "# Create dataloader\n",
        "custom_img_loader = DataLoader(custom_img_dataset, batch_size=batch_size)"
      ],
      "execution_count": null,
      "outputs": []
    },
    {
      "cell_type": "code",
      "metadata": {
        "colab": {
          "base_uri": "https://localhost:8080/",
          "height": 1000,
          "referenced_widgets": [
            "f1af48501b6f48849e303b036db0fb87",
            "46f11a49808b438a923f6e498f4bf3a2",
            "37c4ee6e17b64d3d9da5ade8da12b4c7",
            "662b64adb56147a8b533026c195d53fe",
            "0338e3a4b272407b95fabf5e6aa18285",
            "dd54eac900c14288998a152ace1b9c02",
            "cdc3d00b8a71480ab2528971de9e8429",
            "1d5f86a32cb449c2a62c96f75a14ed0e"
          ]
        },
        "id": "74vFsxHG8AVT",
        "outputId": "7db0791a-3dc6-479c-93cf-2b630f52cc7f"
      },
      "source": [
        "# Load the model\n",
        "fully_trained_model = load_resnet18_model('/content/drive/MyDrive/Google Colab Data/Dog Vision Pytorch/models/full-image-set-resnet18-Adam.pth')\n",
        "fully_trained_model.to(device)"
      ],
      "execution_count": null,
      "outputs": [
        {
          "output_type": "stream",
          "text": [
            "Downloading: \"https://download.pytorch.org/models/resnet18-5c106cde.pth\" to /root/.cache/torch/hub/checkpoints/resnet18-5c106cde.pth\n"
          ],
          "name": "stderr"
        },
        {
          "output_type": "display_data",
          "data": {
            "application/vnd.jupyter.widget-view+json": {
              "model_id": "f1af48501b6f48849e303b036db0fb87",
              "version_minor": 0,
              "version_major": 2
            },
            "text/plain": [
              "HBox(children=(FloatProgress(value=0.0, max=46827520.0), HTML(value='')))"
            ]
          },
          "metadata": {
            "tags": []
          }
        },
        {
          "output_type": "stream",
          "text": [
            "\n"
          ],
          "name": "stdout"
        },
        {
          "output_type": "execute_result",
          "data": {
            "text/plain": [
              "ResNet(\n",
              "  (conv1): Conv2d(3, 64, kernel_size=(7, 7), stride=(2, 2), padding=(3, 3), bias=False)\n",
              "  (bn1): BatchNorm2d(64, eps=1e-05, momentum=0.1, affine=True, track_running_stats=True)\n",
              "  (relu): ReLU(inplace=True)\n",
              "  (maxpool): MaxPool2d(kernel_size=3, stride=2, padding=1, dilation=1, ceil_mode=False)\n",
              "  (layer1): Sequential(\n",
              "    (0): BasicBlock(\n",
              "      (conv1): Conv2d(64, 64, kernel_size=(3, 3), stride=(1, 1), padding=(1, 1), bias=False)\n",
              "      (bn1): BatchNorm2d(64, eps=1e-05, momentum=0.1, affine=True, track_running_stats=True)\n",
              "      (relu): ReLU(inplace=True)\n",
              "      (conv2): Conv2d(64, 64, kernel_size=(3, 3), stride=(1, 1), padding=(1, 1), bias=False)\n",
              "      (bn2): BatchNorm2d(64, eps=1e-05, momentum=0.1, affine=True, track_running_stats=True)\n",
              "    )\n",
              "    (1): BasicBlock(\n",
              "      (conv1): Conv2d(64, 64, kernel_size=(3, 3), stride=(1, 1), padding=(1, 1), bias=False)\n",
              "      (bn1): BatchNorm2d(64, eps=1e-05, momentum=0.1, affine=True, track_running_stats=True)\n",
              "      (relu): ReLU(inplace=True)\n",
              "      (conv2): Conv2d(64, 64, kernel_size=(3, 3), stride=(1, 1), padding=(1, 1), bias=False)\n",
              "      (bn2): BatchNorm2d(64, eps=1e-05, momentum=0.1, affine=True, track_running_stats=True)\n",
              "    )\n",
              "  )\n",
              "  (layer2): Sequential(\n",
              "    (0): BasicBlock(\n",
              "      (conv1): Conv2d(64, 128, kernel_size=(3, 3), stride=(2, 2), padding=(1, 1), bias=False)\n",
              "      (bn1): BatchNorm2d(128, eps=1e-05, momentum=0.1, affine=True, track_running_stats=True)\n",
              "      (relu): ReLU(inplace=True)\n",
              "      (conv2): Conv2d(128, 128, kernel_size=(3, 3), stride=(1, 1), padding=(1, 1), bias=False)\n",
              "      (bn2): BatchNorm2d(128, eps=1e-05, momentum=0.1, affine=True, track_running_stats=True)\n",
              "      (downsample): Sequential(\n",
              "        (0): Conv2d(64, 128, kernel_size=(1, 1), stride=(2, 2), bias=False)\n",
              "        (1): BatchNorm2d(128, eps=1e-05, momentum=0.1, affine=True, track_running_stats=True)\n",
              "      )\n",
              "    )\n",
              "    (1): BasicBlock(\n",
              "      (conv1): Conv2d(128, 128, kernel_size=(3, 3), stride=(1, 1), padding=(1, 1), bias=False)\n",
              "      (bn1): BatchNorm2d(128, eps=1e-05, momentum=0.1, affine=True, track_running_stats=True)\n",
              "      (relu): ReLU(inplace=True)\n",
              "      (conv2): Conv2d(128, 128, kernel_size=(3, 3), stride=(1, 1), padding=(1, 1), bias=False)\n",
              "      (bn2): BatchNorm2d(128, eps=1e-05, momentum=0.1, affine=True, track_running_stats=True)\n",
              "    )\n",
              "  )\n",
              "  (layer3): Sequential(\n",
              "    (0): BasicBlock(\n",
              "      (conv1): Conv2d(128, 256, kernel_size=(3, 3), stride=(2, 2), padding=(1, 1), bias=False)\n",
              "      (bn1): BatchNorm2d(256, eps=1e-05, momentum=0.1, affine=True, track_running_stats=True)\n",
              "      (relu): ReLU(inplace=True)\n",
              "      (conv2): Conv2d(256, 256, kernel_size=(3, 3), stride=(1, 1), padding=(1, 1), bias=False)\n",
              "      (bn2): BatchNorm2d(256, eps=1e-05, momentum=0.1, affine=True, track_running_stats=True)\n",
              "      (downsample): Sequential(\n",
              "        (0): Conv2d(128, 256, kernel_size=(1, 1), stride=(2, 2), bias=False)\n",
              "        (1): BatchNorm2d(256, eps=1e-05, momentum=0.1, affine=True, track_running_stats=True)\n",
              "      )\n",
              "    )\n",
              "    (1): BasicBlock(\n",
              "      (conv1): Conv2d(256, 256, kernel_size=(3, 3), stride=(1, 1), padding=(1, 1), bias=False)\n",
              "      (bn1): BatchNorm2d(256, eps=1e-05, momentum=0.1, affine=True, track_running_stats=True)\n",
              "      (relu): ReLU(inplace=True)\n",
              "      (conv2): Conv2d(256, 256, kernel_size=(3, 3), stride=(1, 1), padding=(1, 1), bias=False)\n",
              "      (bn2): BatchNorm2d(256, eps=1e-05, momentum=0.1, affine=True, track_running_stats=True)\n",
              "    )\n",
              "  )\n",
              "  (layer4): Sequential(\n",
              "    (0): BasicBlock(\n",
              "      (conv1): Conv2d(256, 512, kernel_size=(3, 3), stride=(2, 2), padding=(1, 1), bias=False)\n",
              "      (bn1): BatchNorm2d(512, eps=1e-05, momentum=0.1, affine=True, track_running_stats=True)\n",
              "      (relu): ReLU(inplace=True)\n",
              "      (conv2): Conv2d(512, 512, kernel_size=(3, 3), stride=(1, 1), padding=(1, 1), bias=False)\n",
              "      (bn2): BatchNorm2d(512, eps=1e-05, momentum=0.1, affine=True, track_running_stats=True)\n",
              "      (downsample): Sequential(\n",
              "        (0): Conv2d(256, 512, kernel_size=(1, 1), stride=(2, 2), bias=False)\n",
              "        (1): BatchNorm2d(512, eps=1e-05, momentum=0.1, affine=True, track_running_stats=True)\n",
              "      )\n",
              "    )\n",
              "    (1): BasicBlock(\n",
              "      (conv1): Conv2d(512, 512, kernel_size=(3, 3), stride=(1, 1), padding=(1, 1), bias=False)\n",
              "      (bn1): BatchNorm2d(512, eps=1e-05, momentum=0.1, affine=True, track_running_stats=True)\n",
              "      (relu): ReLU(inplace=True)\n",
              "      (conv2): Conv2d(512, 512, kernel_size=(3, 3), stride=(1, 1), padding=(1, 1), bias=False)\n",
              "      (bn2): BatchNorm2d(512, eps=1e-05, momentum=0.1, affine=True, track_running_stats=True)\n",
              "    )\n",
              "  )\n",
              "  (avgpool): AdaptiveAvgPool2d(output_size=(1, 1))\n",
              "  (fc): Linear(in_features=512, out_features=120, bias=True)\n",
              ")"
            ]
          },
          "metadata": {
            "tags": []
          },
          "execution_count": 36
        }
      ]
    },
    {
      "cell_type": "code",
      "metadata": {
        "colab": {
          "base_uri": "https://localhost:8080/"
        },
        "id": "Mg-IokPX9GL1",
        "outputId": "be0d7574-74ac-46e3-ed1a-9f08e046d32a"
      },
      "source": [
        "custom_img_predictions = predict(fully_trained_model, custom_img_loader)"
      ],
      "execution_count": null,
      "outputs": [
        {
          "output_type": "stream",
          "text": [
            "Batch: 0/0\n"
          ],
          "name": "stdout"
        },
        {
          "output_type": "stream",
          "text": [
            "/usr/local/lib/python3.6/dist-packages/ipykernel_launcher.py:16: UserWarning: Implicit dimension choice for softmax has been deprecated. Change the call to include dim=X as an argument.\n",
            "  app.launch_new_instance()\n"
          ],
          "name": "stderr"
        }
      ]
    },
    {
      "cell_type": "code",
      "metadata": {
        "id": "rPbmgiHB9sUj"
      },
      "source": [
        "def get_pred_label(prediction_probabilities):\n",
        "  \"\"\"\n",
        "  Turn an array of prediction probabilities into a label\n",
        "  \"\"\"\n",
        "  return unique_breeds[np.argmax(prediction_probabilities)]"
      ],
      "execution_count": null,
      "outputs": []
    },
    {
      "cell_type": "code",
      "metadata": {
        "colab": {
          "base_uri": "https://localhost:8080/",
          "height": 35
        },
        "id": "Dc273eNU-l02",
        "outputId": "71439a4a-cbe6-4931-ccfc-79d174ce7ac0"
      },
      "source": [
        "get_pred_label(custom_img_predictions[0])"
      ],
      "execution_count": null,
      "outputs": [
        {
          "output_type": "execute_result",
          "data": {
            "application/vnd.google.colaboratory.intrinsic+json": {
              "type": "string"
            },
            "text/plain": [
              "'whippet'"
            ]
          },
          "metadata": {
            "tags": []
          },
          "execution_count": 57
        }
      ]
    },
    {
      "cell_type": "code",
      "metadata": {
        "colab": {
          "base_uri": "https://localhost:8080/"
        },
        "id": "2xsmrl8F-roU",
        "outputId": "a9c5c9a4-e821-44cb-b167-8b49a747075e"
      },
      "source": [
        "custom_pred_labels = [get_pred_label(custom_img_predictions[i]) for i in range (len(custom_img_predictions))]\n",
        "custom_pred_labels"
      ],
      "execution_count": null,
      "outputs": [
        {
          "output_type": "execute_result",
          "data": {
            "text/plain": [
              "['whippet',\n",
              " 'silky_terrier',\n",
              " 'labrador_retriever',\n",
              " 'chesapeake_bay_retriever',\n",
              " 'labrador_retriever']"
            ]
          },
          "metadata": {
            "tags": []
          },
          "execution_count": 59
        }
      ]
    },
    {
      "cell_type": "code",
      "metadata": {
        "id": "yB2Kv0XE_iAp"
      },
      "source": [
        "# Get custom images\n",
        "custom_images = []\n",
        "for i, batch in enumerate(custom_img_loader):\n",
        "  for j in range(len(batch)):\n",
        "    custom_images.append(batch[j])"
      ],
      "execution_count": null,
      "outputs": []
    },
    {
      "cell_type": "code",
      "metadata": {
        "colab": {
          "base_uri": "https://localhost:8080/",
          "height": 252
        },
        "id": "WjAfoUF_AqgE",
        "outputId": "739734ca-2402-48c9-d7e3-0365359e7a67"
      },
      "source": [
        "# Check custom image predictions\n",
        "plt.figure(figsize=(10, 10))\n",
        "for i, image in enumerate(custom_images):\n",
        "  plt.subplot(1, 5, i+1)\n",
        "  plt.xticks([])\n",
        "  plt.yticks([])\n",
        "  plt.title(custom_pred_labels[i])\n",
        "  plt.imshow(image)"
      ],
      "execution_count": null,
      "outputs": [
        {
          "output_type": "stream",
          "text": [
            "Clipping input data to the valid range for imshow with RGB data ([0..1] for floats or [0..255] for integers).\n",
            "Clipping input data to the valid range for imshow with RGB data ([0..1] for floats or [0..255] for integers).\n",
            "Clipping input data to the valid range for imshow with RGB data ([0..1] for floats or [0..255] for integers).\n",
            "Clipping input data to the valid range for imshow with RGB data ([0..1] for floats or [0..255] for integers).\n",
            "Clipping input data to the valid range for imshow with RGB data ([0..1] for floats or [0..255] for integers).\n"
          ],
          "name": "stderr"
        },
        {
          "output_type": "display_data",
          "data": {
            "image/png": "[encoded data removed]",
            "text/plain": [
              "<Figure size 720x720 with 5 Axes>"
            ]
          },
          "metadata": {
            "tags": []
          }
        }
      ]
    },
    {
      "cell_type": "code",
      "metadata": {
        "id": "97XOcMzSBk1T"
      },
      "source": [
        ""
      ],
      "execution_count": null,
      "outputs": []
    }
  ]
}